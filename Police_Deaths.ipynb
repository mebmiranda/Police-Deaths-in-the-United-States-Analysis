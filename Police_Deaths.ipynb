{
 "cells": [
  {
   "cell_type": "code",
   "execution_count": 1,
   "metadata": {},
   "outputs": [
    {
     "name": "stdout",
     "output_type": "stream",
     "text": [
      "Requirement already satisfied: plotly in /Users/maynardemmanuelmiranda/opt/anaconda3/lib/python3.9/site-packages (5.6.0)\n",
      "Requirement already satisfied: tenacity>=6.2.0 in /Users/maynardemmanuelmiranda/opt/anaconda3/lib/python3.9/site-packages (from plotly) (8.0.1)\n",
      "Requirement already satisfied: six in /Users/maynardemmanuelmiranda/opt/anaconda3/lib/python3.9/site-packages (from plotly) (1.16.0)\n"
     ]
    }
   ],
   "source": [
    "## Import Libraries\n",
    "!pip install plotly\n",
    "import pandas as pd \n",
    "from bs4 import BeautifulSoup\n",
    "import requests\n",
    "import re\n",
    "import matplotlib.pyplot as plt\n",
    "import seaborn as sns\n",
    "from statsmodels.tsa.seasonal import seasonal_decompose\n",
    "import pandas as pd\n",
    "import chart_studio.plotly as py\n",
    "import plotly.offline as po\n",
    "import plotly.graph_objs as pg\n",
    "import matplotlib.pyplot as plt\n",
    "%matplotlib inline"
   ]
  },
  {
   "cell_type": "markdown",
   "metadata": {},
   "source": []
  },
  {
   "cell_type": "code",
   "execution_count": 2,
   "metadata": {},
   "outputs": [
    {
     "data": {
      "text/html": [
       "<div>\n",
       "<style scoped>\n",
       "    .dataframe tbody tr th:only-of-type {\n",
       "        vertical-align: middle;\n",
       "    }\n",
       "\n",
       "    .dataframe tbody tr th {\n",
       "        vertical-align: top;\n",
       "    }\n",
       "\n",
       "    .dataframe thead th {\n",
       "        text-align: right;\n",
       "    }\n",
       "</style>\n",
       "<table border=\"1\" class=\"dataframe\">\n",
       "  <thead>\n",
       "    <tr style=\"text-align: right;\">\n",
       "      <th></th>\n",
       "      <th>Name</th>\n",
       "      <th>Location</th>\n",
       "      <th>Date of Death</th>\n",
       "      <th>Cause of Death</th>\n",
       "    </tr>\n",
       "  </thead>\n",
       "  <tbody>\n",
       "    <tr>\n",
       "      <th>0</th>\n",
       "      <td>Sergeant Abimael Castro-Berrocales</td>\n",
       "      <td>Puerto Rico Police Department, PR</td>\n",
       "      <td>EOW: Sunday, January 1, 2012</td>\n",
       "      <td>Cause: Gunfire</td>\n",
       "    </tr>\n",
       "    <tr>\n",
       "      <th>1</th>\n",
       "      <td>Park Ranger Margaret A. Anderson</td>\n",
       "      <td>United States Department of the Interior - Nat...</td>\n",
       "      <td>EOW: Sunday, January 1, 2012</td>\n",
       "      <td>Cause: Gunfire</td>\n",
       "    </tr>\n",
       "    <tr>\n",
       "      <th>2</th>\n",
       "      <td>Director of Field Operations Julio Daniel La Rosa</td>\n",
       "      <td>United States Department of the Treasury - Int...</td>\n",
       "      <td>EOW: Tuesday, January 3, 2012</td>\n",
       "      <td>Cause: Heart attack</td>\n",
       "    </tr>\n",
       "    <tr>\n",
       "      <th>3</th>\n",
       "      <td>Agent Jared Daniel Francom</td>\n",
       "      <td>Ogden Police Department, UT</td>\n",
       "      <td>EOW: Thursday, January 5, 2012</td>\n",
       "      <td>Cause: Gunfire</td>\n",
       "    </tr>\n",
       "    <tr>\n",
       "      <th>4</th>\n",
       "      <td>Master Patrolman Mitchell DeWayne Weeks</td>\n",
       "      <td>McAlester Police Department, OK</td>\n",
       "      <td>EOW: Friday, January 6, 2012</td>\n",
       "      <td>Cause: Heart attack</td>\n",
       "    </tr>\n",
       "  </tbody>\n",
       "</table>\n",
       "</div>"
      ],
      "text/plain": [
       "                                                Name  \\\n",
       "0                 Sergeant Abimael Castro-Berrocales   \n",
       "1                   Park Ranger Margaret A. Anderson   \n",
       "2  Director of Field Operations Julio Daniel La Rosa   \n",
       "3                         Agent Jared Daniel Francom   \n",
       "4            Master Patrolman Mitchell DeWayne Weeks   \n",
       "\n",
       "                                            Location  \\\n",
       "0                  Puerto Rico Police Department, PR   \n",
       "1  United States Department of the Interior - Nat...   \n",
       "2  United States Department of the Treasury - Int...   \n",
       "3                        Ogden Police Department, UT   \n",
       "4                    McAlester Police Department, OK   \n",
       "\n",
       "                    Date of Death       Cause of Death  \n",
       "0    EOW: Sunday, January 1, 2012       Cause: Gunfire  \n",
       "1    EOW: Sunday, January 1, 2012       Cause: Gunfire  \n",
       "2   EOW: Tuesday, January 3, 2012  Cause: Heart attack  \n",
       "3  EOW: Thursday, January 5, 2012       Cause: Gunfire  \n",
       "4    EOW: Friday, January 6, 2012  Cause: Heart attack  "
      ]
     },
     "execution_count": 2,
     "metadata": {},
     "output_type": "execute_result"
    }
   ],
   "source": [
    "## Empty dataframe. The dataframe for each year will be appended on this empty dataframe\n",
    "df = pd.DataFrame(columns = ['Name', 'Location', 'Date of Death', 'Cause of Death'])\n",
    "\n",
    "## Creating a loop for the url of each year from 2010 to 20202\n",
    "urls = []\n",
    "years = range(2012, 2023)\n",
    "for i in years:\n",
    "    url = \"https://www.odmp.org/search/year?year=\"\n",
    "    new_url = url + str(i)\n",
    "    urls.append(new_url)\n",
    "\n",
    "## Scrapping the data on the url\n",
    "for i in range(0, 11):\n",
    "    url = urls[i]\n",
    "    result = requests.get(url)\n",
    "    doc = BeautifulSoup(result.text, \"html.parser\")\n",
    "    doc_main = doc.find(\"main\", id=\"main\")\n",
    "    p_data = doc_main.find_all(\"p\")\n",
    "\n",
    "## Getting the string on the name tag and putting it on a list\n",
    "    data = []\n",
    "    for i in p_data:\n",
    "        #i.text\n",
    "        data.append(i.string)\n",
    "        \n",
    "## The data contains both died police and k9. The data related to K9 are located at the end part of the list\n",
    "## Determine the index where k9 data starts\n",
    "    def index_containing_substring(data, substring):\n",
    "        for i, s in enumerate(data):\n",
    "            if substring in s:\n",
    "                return i\n",
    "        return -1\n",
    "    K9_index_start = index_containing_substring(data, \"K9\")\n",
    "    \n",
    "    \n",
    "## Removing K9 data\n",
    "    final_data = data[0:K9_index_start]\n",
    "\n",
    "## Dividing the list per police information\n",
    "    final_data = [final_data[x:x+4] for x in range(0, len(final_data),4)]\n",
    "\n",
    "## Concate year dataframe to the main dataframe\n",
    "    df_data = pd.DataFrame(final_data, columns =['Name', 'Location', \"Date of Death\", \"Cause of Death\"])\n",
    "    df = pd.concat([df, df_data], axis=0)\n",
    "    \n",
    "\n",
    "##The scrapped data. The data still needs cleaning\n",
    "df.head()\n"
   ]
  },
  {
   "cell_type": "markdown",
   "metadata": {},
   "source": []
  },
  {
   "cell_type": "code",
   "execution_count": 3,
   "metadata": {},
   "outputs": [
    {
     "data": {
      "text/html": [
       "<div>\n",
       "<style scoped>\n",
       "    .dataframe tbody tr th:only-of-type {\n",
       "        vertical-align: middle;\n",
       "    }\n",
       "\n",
       "    .dataframe tbody tr th {\n",
       "        vertical-align: top;\n",
       "    }\n",
       "\n",
       "    .dataframe thead th {\n",
       "        text-align: right;\n",
       "    }\n",
       "</style>\n",
       "<table border=\"1\" class=\"dataframe\">\n",
       "  <thead>\n",
       "    <tr style=\"text-align: right;\">\n",
       "      <th></th>\n",
       "      <th>Name</th>\n",
       "      <th>State of Death</th>\n",
       "      <th>Cause of Death</th>\n",
       "      <th>Date of Death</th>\n",
       "      <th>Day of Death</th>\n",
       "      <th>Month of Death</th>\n",
       "      <th>Year of Death</th>\n",
       "    </tr>\n",
       "  </thead>\n",
       "  <tbody>\n",
       "    <tr>\n",
       "      <th>0</th>\n",
       "      <td>Sergeant Abimael Castro-Berrocales</td>\n",
       "      <td>PR</td>\n",
       "      <td>Gunfire</td>\n",
       "      <td>January 1, 2012</td>\n",
       "      <td>Sunday</td>\n",
       "      <td>January</td>\n",
       "      <td>2012</td>\n",
       "    </tr>\n",
       "    <tr>\n",
       "      <th>1</th>\n",
       "      <td>Park Ranger Margaret A. Anderson</td>\n",
       "      <td>US</td>\n",
       "      <td>Gunfire</td>\n",
       "      <td>January 1, 2012</td>\n",
       "      <td>Sunday</td>\n",
       "      <td>January</td>\n",
       "      <td>2012</td>\n",
       "    </tr>\n",
       "    <tr>\n",
       "      <th>2</th>\n",
       "      <td>Director of Field Operations Julio Daniel La Rosa</td>\n",
       "      <td>US</td>\n",
       "      <td>Heart attack</td>\n",
       "      <td>January 3, 2012</td>\n",
       "      <td>Tuesday</td>\n",
       "      <td>January</td>\n",
       "      <td>2012</td>\n",
       "    </tr>\n",
       "    <tr>\n",
       "      <th>3</th>\n",
       "      <td>Agent Jared Daniel Francom</td>\n",
       "      <td>UT</td>\n",
       "      <td>Gunfire</td>\n",
       "      <td>January 5, 2012</td>\n",
       "      <td>Thursday</td>\n",
       "      <td>January</td>\n",
       "      <td>2012</td>\n",
       "    </tr>\n",
       "    <tr>\n",
       "      <th>4</th>\n",
       "      <td>Master Patrolman Mitchell DeWayne Weeks</td>\n",
       "      <td>OK</td>\n",
       "      <td>Heart attack</td>\n",
       "      <td>January 6, 2012</td>\n",
       "      <td>Friday</td>\n",
       "      <td>January</td>\n",
       "      <td>2012</td>\n",
       "    </tr>\n",
       "  </tbody>\n",
       "</table>\n",
       "</div>"
      ],
      "text/plain": [
       "                                                Name State of Death  \\\n",
       "0                 Sergeant Abimael Castro-Berrocales             PR   \n",
       "1                   Park Ranger Margaret A. Anderson             US   \n",
       "2  Director of Field Operations Julio Daniel La Rosa             US   \n",
       "3                         Agent Jared Daniel Francom             UT   \n",
       "4            Master Patrolman Mitchell DeWayne Weeks             OK   \n",
       "\n",
       "  Cause of Death    Date of Death Day of Death Month of Death Year of Death  \n",
       "0        Gunfire  January 1, 2012       Sunday        January          2012  \n",
       "1        Gunfire  January 1, 2012       Sunday        January          2012  \n",
       "2   Heart attack  January 3, 2012      Tuesday        January          2012  \n",
       "3        Gunfire  January 5, 2012     Thursday        January          2012  \n",
       "4   Heart attack  January 6, 2012       Friday        January          2012  "
      ]
     },
     "execution_count": 3,
     "metadata": {},
     "output_type": "execute_result"
    }
   ],
   "source": [
    "## Using Regex to retrieve only the State in the Location column\n",
    "search = []    \n",
    "for values in df['Location']:\n",
    "    search.append(re.search(r'[A-Z]{2}', values).group())\n",
    "df['Location'] = search\n",
    "\n",
    "##Removing the Cause: in the Cause of Death column\n",
    "df[['Cause of Death','Cause of Death']] = df['Cause of Death'].str.split(':',expand=True)\n",
    "\n",
    "##Removing the EOW: in the Date of Death column\n",
    "df[['Date of Death','Date of Death']] = df['Date of Death'].str.split(':',expand=True)\n",
    "\n",
    "##Separating Month, Day, and Year on the Date of Death column\n",
    "df[[\"Day\", \"Month\", \"Year\"]] = df[\"Date of Death\"].str.split(\",\", expand = True)\n",
    "df[[\"Month\", \"Month\", \"Month2\"]] = df[\"Month\"].str.split(\" \", expand = True)\n",
    "df[\"Date of Death\"] = df[\"Month\"] + \" \" + df[\"Month2\"] + \",\" + df[\"Year\"]\n",
    "df = df[[\"Name\", \"Location\", \"Cause of Death\", \"Date of Death\", \"Day\", \"Month\", \"Year\"]]\n",
    "df = df.rename(columns = {\"Day\": \"Day of Death\", \"Month\": \"Month of Death\", \"Year\": \"Year of Death\",\"Location\": \"State of Death\"})\n",
    "\n",
    "##The cleaned data\n",
    "df.head()"
   ]
  },
  {
   "cell_type": "code",
   "execution_count": 4,
   "metadata": {},
   "outputs": [
    {
     "data": {
      "text/plain": [
       "Name              0\n",
       "State of Death    0\n",
       "Cause of Death    0\n",
       "Date of Death     0\n",
       "Day of Death      0\n",
       "Month of Death    0\n",
       "Year of Death     0\n",
       "dtype: int64"
      ]
     },
     "execution_count": 4,
     "metadata": {},
     "output_type": "execute_result"
    }
   ],
   "source": [
    "## Checking if there are any missing values\n",
    "df.isnull().sum()"
   ]
  },
  {
   "cell_type": "code",
   "execution_count": 5,
   "metadata": {},
   "outputs": [
    {
     "data": {
      "text/html": [
       "<div>\n",
       "<style scoped>\n",
       "    .dataframe tbody tr th:only-of-type {\n",
       "        vertical-align: middle;\n",
       "    }\n",
       "\n",
       "    .dataframe tbody tr th {\n",
       "        vertical-align: top;\n",
       "    }\n",
       "\n",
       "    .dataframe thead th {\n",
       "        text-align: right;\n",
       "    }\n",
       "</style>\n",
       "<table border=\"1\" class=\"dataframe\">\n",
       "  <thead>\n",
       "    <tr style=\"text-align: right;\">\n",
       "      <th></th>\n",
       "      <th>Name</th>\n",
       "      <th>State of Death</th>\n",
       "      <th>Cause of Death</th>\n",
       "      <th>Date of Death</th>\n",
       "      <th>Day of Death</th>\n",
       "      <th>Month of Death</th>\n",
       "      <th>Year of Death</th>\n",
       "    </tr>\n",
       "  </thead>\n",
       "  <tbody>\n",
       "    <tr>\n",
       "      <th>count</th>\n",
       "      <td>2339</td>\n",
       "      <td>2339</td>\n",
       "      <td>2339</td>\n",
       "      <td>2339</td>\n",
       "      <td>2339</td>\n",
       "      <td>2339</td>\n",
       "      <td>2339</td>\n",
       "    </tr>\n",
       "    <tr>\n",
       "      <th>unique</th>\n",
       "      <td>2339</td>\n",
       "      <td>57</td>\n",
       "      <td>27</td>\n",
       "      <td>1480</td>\n",
       "      <td>7</td>\n",
       "      <td>12</td>\n",
       "      <td>11</td>\n",
       "    </tr>\n",
       "    <tr>\n",
       "      <th>top</th>\n",
       "      <td>Sergeant Abimael Castro-Berrocales</td>\n",
       "      <td>TX</td>\n",
       "      <td>COVID19</td>\n",
       "      <td>August 25, 2021</td>\n",
       "      <td>Thursday</td>\n",
       "      <td>September</td>\n",
       "      <td>2021</td>\n",
       "    </tr>\n",
       "    <tr>\n",
       "      <th>freq</th>\n",
       "      <td>1</td>\n",
       "      <td>301</td>\n",
       "      <td>787</td>\n",
       "      <td>9</td>\n",
       "      <td>378</td>\n",
       "      <td>250</td>\n",
       "      <td>635</td>\n",
       "    </tr>\n",
       "  </tbody>\n",
       "</table>\n",
       "</div>"
      ],
      "text/plain": [
       "                                      Name State of Death Cause of Death  \\\n",
       "count                                 2339           2339           2339   \n",
       "unique                                2339             57             27   \n",
       "top     Sergeant Abimael Castro-Berrocales             TX        COVID19   \n",
       "freq                                     1            301            787   \n",
       "\n",
       "          Date of Death Day of Death Month of Death Year of Death  \n",
       "count              2339         2339           2339          2339  \n",
       "unique             1480            7             12            11  \n",
       "top     August 25, 2021     Thursday      September          2021  \n",
       "freq                  9          378            250           635  "
      ]
     },
     "execution_count": 5,
     "metadata": {},
     "output_type": "execute_result"
    }
   ],
   "source": [
    "## Checking the count and unique values on each of the columns\n",
    "df.describe()  #State of Death column has 58 States which is seems incorrect"
   ]
  },
  {
   "cell_type": "code",
   "execution_count": 6,
   "metadata": {},
   "outputs": [
    {
     "data": {
      "text/plain": [
       "array(['PR', 'US', 'UT', 'OK', 'AZ', 'CT', 'NV', 'LA', 'AR', 'HI', 'KY',\n",
       "       'OH', 'GA', 'MD', 'SC', 'AL', 'NY', 'FL', 'WV', 'WA', 'IN', 'TX',\n",
       "       'VA', 'MA', 'NC', 'CA', 'NH', 'RI', 'PA', 'MS', 'TN', 'CO', 'IA',\n",
       "       'NJ', 'IL', 'WI', 'NM', 'MI', 'VI', 'MN', 'MO', 'KS', 'TR', 'AK',\n",
       "       'OR', 'NE', 'MT', 'DC', 'GU', 'ID', 'VT', 'ND', 'DE', 'WY', 'ME',\n",
       "       'SD', 'UM'], dtype=object)"
      ]
     },
     "execution_count": 6,
     "metadata": {},
     "output_type": "execute_result"
    }
   ],
   "source": [
    "## Inspecting the State of Death column\n",
    "df[\"State of Death\"].unique()  ## US, PR, AS, TR, VI, GU, UM are not a state and must be deleted"
   ]
  },
  {
   "cell_type": "code",
   "execution_count": 7,
   "metadata": {},
   "outputs": [
    {
     "data": {
      "text/html": [
       "<div>\n",
       "<style scoped>\n",
       "    .dataframe tbody tr th:only-of-type {\n",
       "        vertical-align: middle;\n",
       "    }\n",
       "\n",
       "    .dataframe tbody tr th {\n",
       "        vertical-align: top;\n",
       "    }\n",
       "\n",
       "    .dataframe thead th {\n",
       "        text-align: right;\n",
       "    }\n",
       "</style>\n",
       "<table border=\"1\" class=\"dataframe\">\n",
       "  <thead>\n",
       "    <tr style=\"text-align: right;\">\n",
       "      <th></th>\n",
       "      <th>Name</th>\n",
       "      <th>State of Death</th>\n",
       "      <th>Cause of Death</th>\n",
       "      <th>Date of Death</th>\n",
       "      <th>Day of Death</th>\n",
       "      <th>Month of Death</th>\n",
       "      <th>Year of Death</th>\n",
       "    </tr>\n",
       "  </thead>\n",
       "  <tbody>\n",
       "    <tr>\n",
       "      <th>3</th>\n",
       "      <td>Agent Jared Daniel Francom</td>\n",
       "      <td>UT</td>\n",
       "      <td>Gunfire</td>\n",
       "      <td>January 5, 2012</td>\n",
       "      <td>Thursday</td>\n",
       "      <td>January</td>\n",
       "      <td>2012</td>\n",
       "    </tr>\n",
       "    <tr>\n",
       "      <th>4</th>\n",
       "      <td>Master Patrolman Mitchell DeWayne Weeks</td>\n",
       "      <td>OK</td>\n",
       "      <td>Heart attack</td>\n",
       "      <td>January 6, 2012</td>\n",
       "      <td>Friday</td>\n",
       "      <td>January</td>\n",
       "      <td>2012</td>\n",
       "    </tr>\n",
       "    <tr>\n",
       "      <th>5</th>\n",
       "      <td>Deputy Sheriff William Hauley Coleman</td>\n",
       "      <td>AZ</td>\n",
       "      <td>Gunfire</td>\n",
       "      <td>January 8, 2012</td>\n",
       "      <td>Sunday</td>\n",
       "      <td>January</td>\n",
       "      <td>2012</td>\n",
       "    </tr>\n",
       "    <tr>\n",
       "      <th>6</th>\n",
       "      <td>Detective Andrew F. Faggio</td>\n",
       "      <td>CT</td>\n",
       "      <td>Automobile crash</td>\n",
       "      <td>January 11, 2012</td>\n",
       "      <td>Wednesday</td>\n",
       "      <td>January</td>\n",
       "      <td>2012</td>\n",
       "    </tr>\n",
       "    <tr>\n",
       "      <th>7</th>\n",
       "      <td>Deputy Sheriff Denny Van Lawrence</td>\n",
       "      <td>NV</td>\n",
       "      <td>Gunfire</td>\n",
       "      <td>January 17, 2012</td>\n",
       "      <td>Tuesday</td>\n",
       "      <td>January</td>\n",
       "      <td>2012</td>\n",
       "    </tr>\n",
       "  </tbody>\n",
       "</table>\n",
       "</div>"
      ],
      "text/plain": [
       "                                      Name State of Death     Cause of Death  \\\n",
       "3               Agent Jared Daniel Francom             UT            Gunfire   \n",
       "4  Master Patrolman Mitchell DeWayne Weeks             OK       Heart attack   \n",
       "5    Deputy Sheriff William Hauley Coleman             AZ            Gunfire   \n",
       "6               Detective Andrew F. Faggio             CT   Automobile crash   \n",
       "7        Deputy Sheriff Denny Van Lawrence             NV            Gunfire   \n",
       "\n",
       "      Date of Death Day of Death Month of Death Year of Death  \n",
       "3   January 5, 2012     Thursday        January          2012  \n",
       "4   January 6, 2012       Friday        January          2012  \n",
       "5   January 8, 2012       Sunday        January          2012  \n",
       "6  January 11, 2012    Wednesday        January          2012  \n",
       "7  January 17, 2012      Tuesday        January          2012  "
      ]
     },
     "execution_count": 7,
     "metadata": {},
     "output_type": "execute_result"
    }
   ],
   "source": [
    "## Deleting those that are identified not a state\n",
    "df = df[~df['State of Death'].isin(['US','PR', 'AS', 'TR', 'VI', 'GU', 'UM']) ]\n",
    "df.head()"
   ]
  },
  {
   "cell_type": "markdown",
   "metadata": {},
   "source": [
    "Data Analysis"
   ]
  },
  {
   "cell_type": "code",
   "execution_count": 8,
   "metadata": {},
   "outputs": [
    {
     "data": {
      "text/plain": [
       "Text(0, 0.5, 'Cumulative Percentage')"
      ]
     },
     "execution_count": 8,
     "metadata": {},
     "output_type": "execute_result"
    },
    {
     "data": {
      "image/png": "[encoded data removed]",
      "text/plain": [
       "<Figure size 1440x720 with 2 Axes>"
      ]
     },
     "metadata": {
      "needs_background": "light"
     },
     "output_type": "display_data"
    }
   ],
   "source": [
    "## Identifying the Top Causes of Deaths Using Pareto Analysis\n",
    "## Creating Cumulative Percentage Table\n",
    "df_cause_of_death = df.groupby(['Cause of Death']).count().reset_index()\n",
    "df_cause_of_death = df_cause_of_death[[\"Cause of Death\", \"Name\"]].rename(columns={\"Name\":\"Number of Deaths\"}).sort_values(by=\"Number of Deaths\", ascending=False)\n",
    "df_cause_of_death['Cum_Sum'] = df_cause_of_death[\"Number of Deaths\"].cumsum()\n",
    "df_cause_of_death['Cum_Percentage'] = round(100*df_cause_of_death.Cum_Sum/df_cause_of_death[\"Number of Deaths\"].sum(),2)\n",
    "df_cause_of_death.reset_index()\n",
    "\n",
    "## Plot Count\n",
    "ig, ax = plt.subplots(figsize=(20,10))\n",
    "ax.bar(df_cause_of_death[\"Cause of Death\"], df_cause_of_death[\"Number of Deaths\"])\n",
    "ax.set_title(\"Pareto Chart Police Death in United States from 2012 to 2022\", size=20)\n",
    "ax.set_xlabel(\"Cause of Death\", size=15)\n",
    "ax.set_ylabel(\"Number of Death\", size=15);\n",
    "plt.xticks(df_cause_of_death[\"Cause of Death\"], rotation=90)\n",
    "\n",
    "\n",
    "## Cummulative Line Chart\n",
    "ax2 = ax.twinx()\n",
    "ax2.plot(df_cause_of_death[\"Cause of Death\"], df_cause_of_death[\"Cum_Percentage\"], color=\"red\", marker=\"D\", ms=7)\n",
    "ax2.axhline(80, color=\"orange\", linestyle=\"dashed\")\n",
    "ax2.set_ylabel(\"Cumulative Percentage\", size=15)"
   ]
  },
  {
   "cell_type": "code",
   "execution_count": 70,
   "metadata": {},
   "outputs": [
    {
     "data": {
      "image/png": "[encoded data removed]",
      "text/plain": [
       "<Figure size 1152x648 with 4 Axes>"
      ]
     },
     "metadata": {
      "needs_background": "light"
     },
     "output_type": "display_data"
    }
   ],
   "source": [
    "## Performing Time Series Analysis\n",
    "## COVID and 9/11 related illness are exluded as they happened on a certain period of time only\n",
    "\n",
    "## Exluding COVID and 9/11 related illness\n",
    "df_exclude = df[(df[\"Cause of Death\"] != \" COVID19\") & (df[\"Cause of Death\"] != \" 9/11 related illness\")]\n",
    "\n",
    "## Creating the timeseries dataset\n",
    "df_ts = df_exclude\n",
    "df_month = {\"January\": \"01\" , \"February\": \"02\", \"March\": \"03\", \"April\": \"04\", \"May\": \"05\", \"June\": \"06\", \"July\": \"07\",\n",
    "            \"August\": \"08\", \"September\": \"09\", \"October\": \"10\", \"November\": \"11\", \"December\": \"12\"}\n",
    "df_ts = df_ts.replace({\"Month of Death\": df_month})\n",
    "df_ts[\"Month of Death\"].unique()\n",
    "df_ts[\"TS Date\"] = df_ts[\"Year of Death\"] + \"-\" + df_ts[\"Month of Death\"]\n",
    "df_ts = df_ts.groupby([\"TS Date\"]).count().reset_index()\n",
    "df_ts = df_ts[[\"TS Date\", \"Name\"]].rename(columns={\"Name\":\"Number of Deaths\"}).sort_values(by=\"TS Date\", ascending= True)\n",
    "df_ts.set_index('TS Date',inplace=True)\n",
    "df_ts.index=pd.to_datetime(df_ts.index)\n",
    "\n",
    "## Additive Time Series Decomposition\n",
    "additive_decomposition=seasonal_decompose(df_ts['Number of Deaths'], model='additive', period=12)\n",
    "fig = additive_decomposition.plot()\n",
    "fig.set_size_inches((16, 9))\n",
    "fig.tight_layout()\n",
    "plt.show()\n",
    "\n"
   ]
  },
  {
   "cell_type": "code",
   "execution_count": 61,
   "metadata": {},
   "outputs": [
    {
     "data": {
      "application/vnd.plotly.v1+json": {
       "config": {
        "linkText": "Export to plot.ly",
        "plotlyServerURL": "https://plot.ly",
        "showLink": false
       },
       "data": [
        {
         "colorbar": {
          "title": {
           "text": "colorbar"
          }
         },
         "colorscale": [
          [
           0,
           "rgb(255,245,240)"
          ],
          [
           0.125,
           "rgb(254,224,210)"
          ],
          [
           0.25,
           "rgb(252,187,161)"
          ],
          [
           0.375,
           "rgb(252,146,114)"
          ],
          [
           0.5,
           "rgb(251,106,74)"
          ],
          [
           0.625,
           "rgb(239,59,44)"
          ],
          [
           0.75,
           "rgb(203,24,29)"
          ],
          [
           0.875,
           "rgb(165,15,21)"
          ],
          [
           1,
           "rgb(103,0,13)"
          ]
         ],
         "locationmode": "USA-states",
         "locations": [
          "TX",
          "NY",
          "FL",
          "CA",
          "GA",
          "LA",
          "NC",
          "PA",
          "TN",
          "IL",
          "MI",
          "AL",
          "KY",
          "NJ",
          "OK",
          "MO",
          "OH",
          "SC",
          "MS",
          "AR",
          "VA",
          "AZ",
          "CO",
          "IN",
          "WA",
          "MA",
          "KS",
          "MD",
          "NV",
          "WI",
          "IA",
          "NM",
          "MN",
          "WV",
          "UT",
          "NE",
          "CT",
          "OR",
          "HI",
          "DE",
          "AK",
          "RI",
          "NH",
          "ND",
          "ME",
          "SD",
          "ID",
          "MT",
          "VT",
          "WY"
         ],
         "text": [
          "Texas",
          "New York",
          "Florida",
          "California",
          "Georgia",
          "Louisiana",
          "North Carolina",
          "Pennsylvania",
          "Tennessee",
          "Illinois",
          "Michigan",
          "Alabama",
          "Kentucky",
          "New Jersey",
          "Oklahoma",
          "Missouri",
          "Ohio",
          "South Carolina",
          "Mississippi",
          "Arkansas",
          "Virginia",
          "Arizona",
          "Colorado",
          "Indiana",
          "Washington",
          "Massachusetts",
          "Kansas",
          "Maryland",
          "Nevada",
          "Wisconsin",
          "Iowa",
          "New Mexico",
          "Minnesota",
          "West Virginia",
          "Utah",
          "Nebraska",
          "Connecticut",
          "Oregon",
          "Hawaii",
          "Delaware",
          "Alaska",
          "Rhode Island",
          "New Hampshire",
          "North Dakota",
          "Maine",
          "South Dakota",
          "Idaho",
          "Montana",
          "Vermont",
          "Wyoming"
         ],
         "type": "choropleth",
         "z": [
          301,
          287,
          128,
          123,
          121,
          76,
          75,
          65,
          56,
          53,
          47,
          46,
          46,
          44,
          42,
          39,
          38,
          38,
          37,
          36,
          34,
          33,
          33,
          30,
          28,
          25,
          24,
          21,
          20,
          20,
          19,
          16,
          13,
          11,
          10,
          9,
          8,
          8,
          6,
          5,
          4,
          4,
          4,
          4,
          4,
          3,
          3,
          2,
          1,
          1
         ]
        }
       ],
       "layout": {
        "geo": {
         "scope": "usa"
        },
        "margin": {
         "b": 30,
         "l": 30,
         "r": 30,
         "t": 30
        },
        "template": {
         "data": {
          "bar": [
           {
            "error_x": {
             "color": "#2a3f5f"
            },
            "error_y": {
             "color": "#2a3f5f"
            },
            "marker": {
             "line": {
              "color": "#E5ECF6",
              "width": 0.5
             },
             "pattern": {
              "fillmode": "overlay",
              "size": 10,
              "solidity": 0.2
             }
            },
            "type": "bar"
           }
          ],
          "barpolar": [
           {
            "marker": {
             "line": {
              "color": "#E5ECF6",
              "width": 0.5
             },
             "pattern": {
              "fillmode": "overlay",
              "size": 10,
              "solidity": 0.2
             }
            },
            "type": "barpolar"
           }
          ],
          "carpet": [
           {
            "aaxis": {
             "endlinecolor": "#2a3f5f",
             "gridcolor": "white",
             "linecolor": "white",
             "minorgridcolor": "white",
             "startlinecolor": "#2a3f5f"
            },
            "baxis": {
             "endlinecolor": "#2a3f5f",
             "gridcolor": "white",
             "linecolor": "white",
             "minorgridcolor": "white",
             "startlinecolor": "#2a3f5f"
            },
            "type": "carpet"
           }
          ],
          "choropleth": [
           {
            "colorbar": {
             "outlinewidth": 0,
             "ticks": ""
            },
            "type": "choropleth"
           }
          ],
          "contour": [
           {
            "colorbar": {
             "outlinewidth": 0,
             "ticks": ""
            },
            "colorscale": [
             [
              0,
              "#0d0887"
             ],
             [
              0.1111111111111111,
              "#46039f"
             ],
             [
              0.2222222222222222,
              "#7201a8"
             ],
             [
              0.3333333333333333,
              "#9c179e"
             ],
             [
              0.4444444444444444,
              "#bd3786"
             ],
             [
              0.5555555555555556,
              "#d8576b"
             ],
             [
              0.6666666666666666,
              "#ed7953"
             ],
             [
              0.7777777777777778,
              "#fb9f3a"
             ],
             [
              0.8888888888888888,
              "#fdca26"
             ],
             [
              1,
              "#f0f921"
             ]
            ],
            "type": "contour"
           }
          ],
          "contourcarpet": [
           {
            "colorbar": {
             "outlinewidth": 0,
             "ticks": ""
            },
            "type": "contourcarpet"
           }
          ],
          "heatmap": [
           {
            "colorbar": {
             "outlinewidth": 0,
             "ticks": ""
            },
            "colorscale": [
             [
              0,
              "#0d0887"
             ],
             [
              0.1111111111111111,
              "#46039f"
             ],
             [
              0.2222222222222222,
              "#7201a8"
             ],
             [
              0.3333333333333333,
              "#9c179e"
             ],
             [
              0.4444444444444444,
              "#bd3786"
             ],
             [
              0.5555555555555556,
              "#d8576b"
             ],
             [
              0.6666666666666666,
              "#ed7953"
             ],
             [
              0.7777777777777778,
              "#fb9f3a"
             ],
             [
              0.8888888888888888,
              "#fdca26"
             ],
             [
              1,
              "#f0f921"
             ]
            ],
            "type": "heatmap"
           }
          ],
          "heatmapgl": [
           {
            "colorbar": {
             "outlinewidth": 0,
             "ticks": ""
            },
            "colorscale": [
             [
              0,
              "#0d0887"
             ],
             [
              0.1111111111111111,
              "#46039f"
             ],
             [
              0.2222222222222222,
              "#7201a8"
             ],
             [
              0.3333333333333333,
              "#9c179e"
             ],
             [
              0.4444444444444444,
              "#bd3786"
             ],
             [
              0.5555555555555556,
              "#d8576b"
             ],
             [
              0.6666666666666666,
              "#ed7953"
             ],
             [
              0.7777777777777778,
              "#fb9f3a"
             ],
             [
              0.8888888888888888,
              "#fdca26"
             ],
             [
              1,
              "#f0f921"
             ]
            ],
            "type": "heatmapgl"
           }
          ],
          "histogram": [
           {
            "marker": {
             "pattern": {
              "fillmode": "overlay",
              "size": 10,
              "solidity": 0.2
             }
            },
            "type": "histogram"
           }
          ],
          "histogram2d": [
           {
            "colorbar": {
             "outlinewidth": 0,
             "ticks": ""
            },
            "colorscale": [
             [
              0,
              "#0d0887"
             ],
             [
              0.1111111111111111,
              "#46039f"
             ],
             [
              0.2222222222222222,
              "#7201a8"
             ],
             [
              0.3333333333333333,
              "#9c179e"
             ],
             [
              0.4444444444444444,
              "#bd3786"
             ],
             [
              0.5555555555555556,
              "#d8576b"
             ],
             [
              0.6666666666666666,
              "#ed7953"
             ],
             [
              0.7777777777777778,
              "#fb9f3a"
             ],
             [
              0.8888888888888888,
              "#fdca26"
             ],
             [
              1,
              "#f0f921"
             ]
            ],
            "type": "histogram2d"
           }
          ],
          "histogram2dcontour": [
           {
            "colorbar": {
             "outlinewidth": 0,
             "ticks": ""
            },
            "colorscale": [
             [
              0,
              "#0d0887"
             ],
             [
              0.1111111111111111,
              "#46039f"
             ],
             [
              0.2222222222222222,
              "#7201a8"
             ],
             [
              0.3333333333333333,
              "#9c179e"
             ],
             [
              0.4444444444444444,
              "#bd3786"
             ],
             [
              0.5555555555555556,
              "#d8576b"
             ],
             [
              0.6666666666666666,
              "#ed7953"
             ],
             [
              0.7777777777777778,
              "#fb9f3a"
             ],
             [
              0.8888888888888888,
              "#fdca26"
             ],
             [
              1,
              "#f0f921"
             ]
            ],
            "type": "histogram2dcontour"
           }
          ],
          "mesh3d": [
           {
            "colorbar": {
             "outlinewidth": 0,
             "ticks": ""
            },
            "type": "mesh3d"
           }
          ],
          "parcoords": [
           {
            "line": {
             "colorbar": {
              "outlinewidth": 0,
              "ticks": ""
             }
            },
            "type": "parcoords"
           }
          ],
          "pie": [
           {
            "automargin": true,
            "type": "pie"
           }
          ],
          "scatter": [
           {
            "marker": {
             "colorbar": {
              "outlinewidth": 0,
              "ticks": ""
             }
            },
            "type": "scatter"
           }
          ],
          "scatter3d": [
           {
            "line": {
             "colorbar": {
              "outlinewidth": 0,
              "ticks": ""
             }
            },
            "marker": {
             "colorbar": {
              "outlinewidth": 0,
              "ticks": ""
             }
            },
            "type": "scatter3d"
           }
          ],
          "scattercarpet": [
           {
            "marker": {
             "colorbar": {
              "outlinewidth": 0,
              "ticks": ""
             }
            },
            "type": "scattercarpet"
           }
          ],
          "scattergeo": [
           {
            "marker": {
             "colorbar": {
              "outlinewidth": 0,
              "ticks": ""
             }
            },
            "type": "scattergeo"
           }
          ],
          "scattergl": [
           {
            "marker": {
             "colorbar": {
              "outlinewidth": 0,
              "ticks": ""
             }
            },
            "type": "scattergl"
           }
          ],
          "scattermapbox": [
           {
            "marker": {
             "colorbar": {
              "outlinewidth": 0,
              "ticks": ""
             }
            },
            "type": "scattermapbox"
           }
          ],
          "scatterpolar": [
           {
            "marker": {
             "colorbar": {
              "outlinewidth": 0,
              "ticks": ""
             }
            },
            "type": "scatterpolar"
           }
          ],
          "scatterpolargl": [
           {
            "marker": {
             "colorbar": {
              "outlinewidth": 0,
              "ticks": ""
             }
            },
            "type": "scatterpolargl"
           }
          ],
          "scatterternary": [
           {
            "marker": {
             "colorbar": {
              "outlinewidth": 0,
              "ticks": ""
             }
            },
            "type": "scatterternary"
           }
          ],
          "surface": [
           {
            "colorbar": {
             "outlinewidth": 0,
             "ticks": ""
            },
            "colorscale": [
             [
              0,
              "#0d0887"
             ],
             [
              0.1111111111111111,
              "#46039f"
             ],
             [
              0.2222222222222222,
              "#7201a8"
             ],
             [
              0.3333333333333333,
              "#9c179e"
             ],
             [
              0.4444444444444444,
              "#bd3786"
             ],
             [
              0.5555555555555556,
              "#d8576b"
             ],
             [
              0.6666666666666666,
              "#ed7953"
             ],
             [
              0.7777777777777778,
              "#fb9f3a"
             ],
             [
              0.8888888888888888,
              "#fdca26"
             ],
             [
              1,
              "#f0f921"
             ]
            ],
            "type": "surface"
           }
          ],
          "table": [
           {
            "cells": {
             "fill": {
              "color": "#EBF0F8"
             },
             "line": {
              "color": "white"
             }
            },
            "header": {
             "fill": {
              "color": "#C8D4E3"
             },
             "line": {
              "color": "white"
             }
            },
            "type": "table"
           }
          ]
         },
         "layout": {
          "annotationdefaults": {
           "arrowcolor": "#2a3f5f",
           "arrowhead": 0,
           "arrowwidth": 1
          },
          "autotypenumbers": "strict",
          "coloraxis": {
           "colorbar": {
            "outlinewidth": 0,
            "ticks": ""
           }
          },
          "colorscale": {
           "diverging": [
            [
             0,
             "#8e0152"
            ],
            [
             0.1,
             "#c51b7d"
            ],
            [
             0.2,
             "#de77ae"
            ],
            [
             0.3,
             "#f1b6da"
            ],
            [
             0.4,
             "#fde0ef"
            ],
            [
             0.5,
             "#f7f7f7"
            ],
            [
             0.6,
             "#e6f5d0"
            ],
            [
             0.7,
             "#b8e186"
            ],
            [
             0.8,
             "#7fbc41"
            ],
            [
             0.9,
             "#4d9221"
            ],
            [
             1,
             "#276419"
            ]
           ],
           "sequential": [
            [
             0,
             "#0d0887"
            ],
            [
             0.1111111111111111,
             "#46039f"
            ],
            [
             0.2222222222222222,
             "#7201a8"
            ],
            [
             0.3333333333333333,
             "#9c179e"
            ],
            [
             0.4444444444444444,
             "#bd3786"
            ],
            [
             0.5555555555555556,
             "#d8576b"
            ],
            [
             0.6666666666666666,
             "#ed7953"
            ],
            [
             0.7777777777777778,
             "#fb9f3a"
            ],
            [
             0.8888888888888888,
             "#fdca26"
            ],
            [
             1,
             "#f0f921"
            ]
           ],
           "sequentialminus": [
            [
             0,
             "#0d0887"
            ],
            [
             0.1111111111111111,
             "#46039f"
            ],
            [
             0.2222222222222222,
             "#7201a8"
            ],
            [
             0.3333333333333333,
             "#9c179e"
            ],
            [
             0.4444444444444444,
             "#bd3786"
            ],
            [
             0.5555555555555556,
             "#d8576b"
            ],
            [
             0.6666666666666666,
             "#ed7953"
            ],
            [
             0.7777777777777778,
             "#fb9f3a"
            ],
            [
             0.8888888888888888,
             "#fdca26"
            ],
            [
             1,
             "#f0f921"
            ]
           ]
          },
          "colorway": [
           "#636efa",
           "#EF553B",
           "#00cc96",
           "#ab63fa",
           "#FFA15A",
           "#19d3f3",
           "#FF6692",
           "#B6E880",
           "#FF97FF",
           "#FECB52"
          ],
          "font": {
           "color": "#2a3f5f"
          },
          "geo": {
           "bgcolor": "white",
           "lakecolor": "white",
           "landcolor": "#E5ECF6",
           "showlakes": true,
           "showland": true,
           "subunitcolor": "white"
          },
          "hoverlabel": {
           "align": "left"
          },
          "hovermode": "closest",
          "mapbox": {
           "style": "light"
          },
          "paper_bgcolor": "white",
          "plot_bgcolor": "#E5ECF6",
          "polar": {
           "angularaxis": {
            "gridcolor": "white",
            "linecolor": "white",
            "ticks": ""
           },
           "bgcolor": "#E5ECF6",
           "radialaxis": {
            "gridcolor": "white",
            "linecolor": "white",
            "ticks": ""
           }
          },
          "scene": {
           "xaxis": {
            "backgroundcolor": "#E5ECF6",
            "gridcolor": "white",
            "gridwidth": 2,
            "linecolor": "white",
            "showbackground": true,
            "ticks": "",
            "zerolinecolor": "white"
           },
           "yaxis": {
            "backgroundcolor": "#E5ECF6",
            "gridcolor": "white",
            "gridwidth": 2,
            "linecolor": "white",
            "showbackground": true,
            "ticks": "",
            "zerolinecolor": "white"
           },
           "zaxis": {
            "backgroundcolor": "#E5ECF6",
            "gridcolor": "white",
            "gridwidth": 2,
            "linecolor": "white",
            "showbackground": true,
            "ticks": "",
            "zerolinecolor": "white"
           }
          },
          "shapedefaults": {
           "line": {
            "color": "#2a3f5f"
           }
          },
          "ternary": {
           "aaxis": {
            "gridcolor": "white",
            "linecolor": "white",
            "ticks": ""
           },
           "baxis": {
            "gridcolor": "white",
            "linecolor": "white",
            "ticks": ""
           },
           "bgcolor": "#E5ECF6",
           "caxis": {
            "gridcolor": "white",
            "linecolor": "white",
            "ticks": ""
           }
          },
          "title": {
           "x": 0.05
          },
          "xaxis": {
           "automargin": true,
           "gridcolor": "white",
           "linecolor": "white",
           "ticks": "",
           "title": {
            "standoff": 15
           },
           "zerolinecolor": "white",
           "zerolinewidth": 2
          },
          "yaxis": {
           "automargin": true,
           "gridcolor": "white",
           "linecolor": "white",
           "ticks": "",
           "title": {
            "standoff": 15
           },
           "zerolinecolor": "white",
           "zerolinewidth": 2
          }
         }
        },
        "title": {
         "text": "Police Deaths in the United States from 2012 - 2022"
        }
       }
      }
     },
     "metadata": {},
     "output_type": "display_data"
    },
    {
     "ename": "ValueError",
     "evalue": "\nThe fig parameter must be a dict or Figure.\n    Received value of type <class 'module'>: <module 'matplotlib.pyplot' from '/Users/maynardemmanuelmiranda/opt/anaconda3/lib/python3.9/site-packages/matplotlib/pyplot.py'>",
     "output_type": "error",
     "traceback": [
      "\u001b[0;31m---------------------------------------------------------------------------\u001b[0m",
      "\u001b[0;31mValueError\u001b[0m                                Traceback (most recent call last)",
      "\u001b[1;32m/Users/maynardemmanuelmiranda/Desktop/Police Deaths in USA/Police_Deaths.ipynb Cell 13\u001b[0m in \u001b[0;36m<cell line: 41>\u001b[0;34m()\u001b[0m\n\u001b[1;32m     <a href='vscode-notebook-cell:/Users/maynardemmanuelmiranda/Desktop/Police%20Deaths%20in%20USA/Police_Deaths.ipynb#ch0000014?line=37'>38</a>\u001b[0m plt\u001b[39m.\u001b[39mshow()\n\u001b[1;32m     <a href='vscode-notebook-cell:/Users/maynardemmanuelmiranda/Desktop/Police%20Deaths%20in%20USA/Police_Deaths.ipynb#ch0000014?line=39'>40</a>\u001b[0m \u001b[39mimport\u001b[39;00m \u001b[39mplotly\u001b[39;00m\u001b[39m.\u001b[39;00m\u001b[39mio\u001b[39;00m \u001b[39mas\u001b[39;00m \u001b[39mpio\u001b[39;00m\n\u001b[0;32m---> <a href='vscode-notebook-cell:/Users/maynardemmanuelmiranda/Desktop/Police%20Deaths%20in%20USA/Police_Deaths.ipynb#ch0000014?line=40'>41</a>\u001b[0m pio\u001b[39m.\u001b[39;49mwrite_html(plt, file\u001b[39m=\u001b[39;49m\u001b[39m'\u001b[39;49m\u001b[39mfigure.html\u001b[39;49m\u001b[39m'\u001b[39;49m, auto_open\u001b[39m=\u001b[39;49m\u001b[39mTrue\u001b[39;49;00m)\n",
      "File \u001b[0;32m~/opt/anaconda3/lib/python3.9/site-packages/plotly/io/_html.py:513\u001b[0m, in \u001b[0;36mwrite_html\u001b[0;34m(fig, file, config, auto_play, include_plotlyjs, include_mathjax, post_script, full_html, animation_opts, validate, default_width, default_height, auto_open, div_id)\u001b[0m\n\u001b[1;32m    401\u001b[0m \u001b[39m\"\"\"\u001b[39;00m\n\u001b[1;32m    402\u001b[0m \u001b[39mWrite a figure to an HTML file representation\u001b[39;00m\n\u001b[1;32m    403\u001b[0m \n\u001b[0;32m   (...)\u001b[0m\n\u001b[1;32m    509\u001b[0m \u001b[39m    Representation of figure as an HTML div string\u001b[39;00m\n\u001b[1;32m    510\u001b[0m \u001b[39m\"\"\"\u001b[39;00m\n\u001b[1;32m    512\u001b[0m \u001b[39m# Build HTML string\u001b[39;00m\n\u001b[0;32m--> 513\u001b[0m html_str \u001b[39m=\u001b[39m to_html(\n\u001b[1;32m    514\u001b[0m     fig,\n\u001b[1;32m    515\u001b[0m     config\u001b[39m=\u001b[39;49mconfig,\n\u001b[1;32m    516\u001b[0m     auto_play\u001b[39m=\u001b[39;49mauto_play,\n\u001b[1;32m    517\u001b[0m     include_plotlyjs\u001b[39m=\u001b[39;49minclude_plotlyjs,\n\u001b[1;32m    518\u001b[0m     include_mathjax\u001b[39m=\u001b[39;49minclude_mathjax,\n\u001b[1;32m    519\u001b[0m     post_script\u001b[39m=\u001b[39;49mpost_script,\n\u001b[1;32m    520\u001b[0m     full_html\u001b[39m=\u001b[39;49mfull_html,\n\u001b[1;32m    521\u001b[0m     animation_opts\u001b[39m=\u001b[39;49manimation_opts,\n\u001b[1;32m    522\u001b[0m     default_width\u001b[39m=\u001b[39;49mdefault_width,\n\u001b[1;32m    523\u001b[0m     default_height\u001b[39m=\u001b[39;49mdefault_height,\n\u001b[1;32m    524\u001b[0m     validate\u001b[39m=\u001b[39;49mvalidate,\n\u001b[1;32m    525\u001b[0m     div_id\u001b[39m=\u001b[39;49mdiv_id,\n\u001b[1;32m    526\u001b[0m )\n\u001b[1;32m    528\u001b[0m \u001b[39m# Check if file is a string\u001b[39;00m\n\u001b[1;32m    529\u001b[0m \u001b[39mif\u001b[39;00m \u001b[39misinstance\u001b[39m(file, six\u001b[39m.\u001b[39mstring_types):\n\u001b[1;32m    530\u001b[0m     \u001b[39m# Use the standard pathlib constructor to make a pathlib object.\u001b[39;00m\n",
      "File \u001b[0;32m~/opt/anaconda3/lib/python3.9/site-packages/plotly/io/_html.py:140\u001b[0m, in \u001b[0;36mto_html\u001b[0;34m(fig, config, auto_play, include_plotlyjs, include_mathjax, post_script, full_html, animation_opts, default_width, default_height, validate, div_id)\u001b[0m\n\u001b[1;32m    137\u001b[0m \u001b[39mfrom\u001b[39;00m \u001b[39mplotly\u001b[39;00m\u001b[39m.\u001b[39;00m\u001b[39mio\u001b[39;00m\u001b[39m.\u001b[39;00m\u001b[39mjson\u001b[39;00m \u001b[39mimport\u001b[39;00m to_json_plotly\n\u001b[1;32m    139\u001b[0m \u001b[39m# ## Validate figure ##\u001b[39;00m\n\u001b[0;32m--> 140\u001b[0m fig_dict \u001b[39m=\u001b[39m validate_coerce_fig_to_dict(fig, validate)\n\u001b[1;32m    142\u001b[0m \u001b[39m# ## Generate div id ##\u001b[39;00m\n\u001b[1;32m    143\u001b[0m plotdivid \u001b[39m=\u001b[39m div_id \u001b[39mor\u001b[39;00m \u001b[39mstr\u001b[39m(uuid\u001b[39m.\u001b[39muuid4())\n",
      "File \u001b[0;32m~/opt/anaconda3/lib/python3.9/site-packages/plotly/io/_utils.py:22\u001b[0m, in \u001b[0;36mvalidate_coerce_fig_to_dict\u001b[0;34m(fig, validate)\u001b[0m\n\u001b[1;32m     20\u001b[0m         fig_dict \u001b[39m=\u001b[39m fig\u001b[39m.\u001b[39mto_plotly_json()\n\u001b[1;32m     21\u001b[0m     \u001b[39melse\u001b[39;00m:\n\u001b[0;32m---> 22\u001b[0m         \u001b[39mraise\u001b[39;00m \u001b[39mValueError\u001b[39;00m(\n\u001b[1;32m     23\u001b[0m             \u001b[39m\"\"\"\u001b[39;00m\n\u001b[1;32m     24\u001b[0m \u001b[39mThe fig parameter must be a dict or Figure.\u001b[39;00m\n\u001b[1;32m     25\u001b[0m \u001b[39m    Received value of type {typ}: {v}\"\"\"\u001b[39;00m\u001b[39m.\u001b[39mformat(\n\u001b[1;32m     26\u001b[0m                 typ\u001b[39m=\u001b[39m\u001b[39mtype\u001b[39m(fig), v\u001b[39m=\u001b[39mfig\n\u001b[1;32m     27\u001b[0m             )\n\u001b[1;32m     28\u001b[0m         )\n\u001b[1;32m     29\u001b[0m     \u001b[39mreturn\u001b[39;00m fig_dict\n",
      "\u001b[0;31mValueError\u001b[0m: \nThe fig parameter must be a dict or Figure.\n    Received value of type <class 'module'>: <module 'matplotlib.pyplot' from '/Users/maynardemmanuelmiranda/opt/anaconda3/lib/python3.9/site-packages/matplotlib/pyplot.py'>"
     ]
    }
   ],
   "source": [
    "## Grouping Deaths by State\n",
    "df_map = df.groupby(['State of Death']).count().reset_index()\n",
    "df_map = df_map[[\"State of Death\", \"Name\"]].rename(columns={\"Name\":\"Deaths\"}).sort_values(by=\"Deaths\", ascending=False)\n",
    "\n",
    "## Dataset with State Name\n",
    "df_states = pd.read_csv(\"/Users/maynardemmanuelmiranda/Desktop/Police Deaths in USA/States.csv\")\n",
    "df_states[\"State of Death\"] = df_states[\"Code\"]\n",
    "df_states\n",
    "\n",
    "## Merging the datasets\n",
    "df_map = pd.merge(df_map, df_states, on=\"State of Death\")\n",
    "\n",
    "## Final Dataset\n",
    "df_map = df_map[[\"State\", \"Code\", \"Deaths\"]]\n",
    "\n",
    "\n",
    "## Map Using Plotly\n",
    "Code = df_map[\"Code\"].values.tolist()\n",
    "Deaths = df_map[\"Deaths\"].values.tolist()\n",
    "State = df_map[\"State\"].values.tolist()\n",
    "\n",
    "data = dict(type = \"choropleth\",\n",
    "            locations = Code,\n",
    "            locationmode = \"USA-states\",\n",
    "            z = Deaths,\n",
    "            colorscale= \"Reds\",\n",
    "            colorbar = {\"title\": \"colorbar\"},\n",
    "            text = State)\n",
    "\n",
    "\n",
    "layout = dict(title = \"Police Deaths in the United States from 2012 - 2022\", \n",
    "              geo = {\"scope\": \"usa\"})\n",
    "\n",
    "\n",
    "death_map = pg.Figure(data = [data] ,layout = layout)\n",
    "death_map.update_layout(margin=dict(l=30, r=30, t=30, b=30))\n",
    "po.iplot(death_map)\n",
    "plt.show()\n",
    "\n"
   ]
  },
  {
   "cell_type": "code",
   "execution_count": null,
   "metadata": {},
   "outputs": [],
   "source": []
  }
 ],
 "metadata": {
  "kernelspec": {
   "display_name": "Python 3.9.12 ('base')",
   "language": "python",
   "name": "python3"
  },
  "language_info": {
   "codemirror_mode": {
    "name": "ipython",
    "version": 3
   },
   "file_extension": ".py",
   "mimetype": "text/x-python",
   "name": "python",
   "nbconvert_exporter": "python",
   "pygments_lexer": "ipython3",
   "version": "3.9.12"
  },
  "orig_nbformat": 4,
  "vscode": {
   "interpreter": {
    "hash": "9dd350bc4093f4e0c8710b87c0581205ce5dda265ea82af68fee06fb2abc8260"
   }
  }
 },
 "nbformat": 4,
 "nbformat_minor": 2
}
