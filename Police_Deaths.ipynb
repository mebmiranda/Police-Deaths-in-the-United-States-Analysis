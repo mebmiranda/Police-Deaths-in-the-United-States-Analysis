{
 "cells": [
  {
   "cell_type": "markdown",
   "metadata": {},
   "source": [
    "Libraries Used"
   ]
  },
  {
   "cell_type": "code",
   "execution_count": 2,
   "metadata": {},
   "outputs": [
    {
     "name": "stdout",
     "output_type": "stream",
     "text": [
      "Requirement already satisfied: plotly in /Users/maynardemmanuelmiranda/opt/anaconda3/lib/python3.9/site-packages (5.6.0)\n",
      "Requirement already satisfied: tenacity>=6.2.0 in /Users/maynardemmanuelmiranda/opt/anaconda3/lib/python3.9/site-packages (from plotly) (8.0.1)\n",
      "Requirement already satisfied: six in /Users/maynardemmanuelmiranda/opt/anaconda3/lib/python3.9/site-packages (from plotly) (1.16.0)\n",
      "Requirement already satisfied: jupyter_to_medium in /Users/maynardemmanuelmiranda/opt/anaconda3/lib/python3.9/site-packages (0.2.10)\n",
      "Requirement already satisfied: numpy<2.0.0,>=1.21.4 in /Users/maynardemmanuelmiranda/opt/anaconda3/lib/python3.9/site-packages (from jupyter_to_medium) (1.21.5)\n",
      "Requirement already satisfied: requests<3.0.0,>=2.26.0 in /Users/maynardemmanuelmiranda/opt/anaconda3/lib/python3.9/site-packages (from jupyter_to_medium) (2.27.1)\n",
      "Requirement already satisfied: matplotlib<4.0.0,>=3.5.0 in /Users/maynardemmanuelmiranda/opt/anaconda3/lib/python3.9/site-packages (from jupyter_to_medium) (3.5.1)\n",
      "Requirement already satisfied: nbconvert==5.6.1 in /Users/maynardemmanuelmiranda/opt/anaconda3/lib/python3.9/site-packages (from jupyter_to_medium) (5.6.1)\n",
      "Requirement already satisfied: jupyter<2.0.0,>=1.0.0 in /Users/maynardemmanuelmiranda/opt/anaconda3/lib/python3.9/site-packages (from jupyter_to_medium) (1.0.0)\n",
      "Requirement already satisfied: jupyter-contrib-nbextensions<0.6.0,>=0.5.1 in /Users/maynardemmanuelmiranda/opt/anaconda3/lib/python3.9/site-packages (from jupyter_to_medium) (0.5.1)\n",
      "Requirement already satisfied: beautifulsoup4<5.0.0,>=4.10.0 in /Users/maynardemmanuelmiranda/opt/anaconda3/lib/python3.9/site-packages (from jupyter_to_medium) (4.11.1)\n",
      "Requirement already satisfied: pygments in /Users/maynardemmanuelmiranda/opt/anaconda3/lib/python3.9/site-packages (from nbconvert==5.6.1->jupyter_to_medium) (2.11.2)\n",
      "Requirement already satisfied: defusedxml in /Users/maynardemmanuelmiranda/opt/anaconda3/lib/python3.9/site-packages (from nbconvert==5.6.1->jupyter_to_medium) (0.7.1)\n",
      "Requirement already satisfied: pandocfilters>=1.4.1 in /Users/maynardemmanuelmiranda/opt/anaconda3/lib/python3.9/site-packages (from nbconvert==5.6.1->jupyter_to_medium) (1.5.0)\n",
      "Requirement already satisfied: jupyter-core in /Users/maynardemmanuelmiranda/opt/anaconda3/lib/python3.9/site-packages (from nbconvert==5.6.1->jupyter_to_medium) (4.9.2)\n",
      "Requirement already satisfied: nbformat>=4.4 in /Users/maynardemmanuelmiranda/opt/anaconda3/lib/python3.9/site-packages (from nbconvert==5.6.1->jupyter_to_medium) (5.3.0)\n",
      "Requirement already satisfied: testpath in /Users/maynardemmanuelmiranda/opt/anaconda3/lib/python3.9/site-packages (from nbconvert==5.6.1->jupyter_to_medium) (0.5.0)\n",
      "Requirement already satisfied: jinja2>=2.4 in /Users/maynardemmanuelmiranda/opt/anaconda3/lib/python3.9/site-packages (from nbconvert==5.6.1->jupyter_to_medium) (2.11.3)\n",
      "Requirement already satisfied: traitlets>=4.2 in /Users/maynardemmanuelmiranda/opt/anaconda3/lib/python3.9/site-packages (from nbconvert==5.6.1->jupyter_to_medium) (5.1.1)\n",
      "Requirement already satisfied: mistune<2,>=0.8.1 in /Users/maynardemmanuelmiranda/opt/anaconda3/lib/python3.9/site-packages (from nbconvert==5.6.1->jupyter_to_medium) (0.8.4)\n",
      "Requirement already satisfied: bleach in /Users/maynardemmanuelmiranda/opt/anaconda3/lib/python3.9/site-packages (from nbconvert==5.6.1->jupyter_to_medium) (4.1.0)\n",
      "Requirement already satisfied: entrypoints>=0.2.2 in /Users/maynardemmanuelmiranda/opt/anaconda3/lib/python3.9/site-packages (from nbconvert==5.6.1->jupyter_to_medium) (0.4)\n",
      "Requirement already satisfied: soupsieve>1.2 in /Users/maynardemmanuelmiranda/opt/anaconda3/lib/python3.9/site-packages (from beautifulsoup4<5.0.0,>=4.10.0->jupyter_to_medium) (2.3.1)\n",
      "Requirement already satisfied: MarkupSafe>=0.23 in /Users/maynardemmanuelmiranda/opt/anaconda3/lib/python3.9/site-packages (from jinja2>=2.4->nbconvert==5.6.1->jupyter_to_medium) (2.0.1)\n",
      "Requirement already satisfied: ipywidgets in /Users/maynardemmanuelmiranda/opt/anaconda3/lib/python3.9/site-packages (from jupyter<2.0.0,>=1.0.0->jupyter_to_medium) (7.6.5)\n",
      "Requirement already satisfied: jupyter-console in /Users/maynardemmanuelmiranda/opt/anaconda3/lib/python3.9/site-packages (from jupyter<2.0.0,>=1.0.0->jupyter_to_medium) (6.4.0)\n",
      "Requirement already satisfied: ipykernel in /Users/maynardemmanuelmiranda/opt/anaconda3/lib/python3.9/site-packages (from jupyter<2.0.0,>=1.0.0->jupyter_to_medium) (6.9.1)\n",
      "Requirement already satisfied: qtconsole in /Users/maynardemmanuelmiranda/opt/anaconda3/lib/python3.9/site-packages (from jupyter<2.0.0,>=1.0.0->jupyter_to_medium) (5.3.0)\n",
      "Requirement already satisfied: notebook in /Users/maynardemmanuelmiranda/opt/anaconda3/lib/python3.9/site-packages (from jupyter<2.0.0,>=1.0.0->jupyter_to_medium) (6.4.8)\n",
      "Requirement already satisfied: pyyaml in /Users/maynardemmanuelmiranda/opt/anaconda3/lib/python3.9/site-packages (from jupyter-contrib-nbextensions<0.6.0,>=0.5.1->jupyter_to_medium) (6.0)\n",
      "Requirement already satisfied: ipython-genutils in /Users/maynardemmanuelmiranda/opt/anaconda3/lib/python3.9/site-packages (from jupyter-contrib-nbextensions<0.6.0,>=0.5.1->jupyter_to_medium) (0.2.0)\n",
      "Requirement already satisfied: jupyter-highlight-selected-word>=0.1.1 in /Users/maynardemmanuelmiranda/opt/anaconda3/lib/python3.9/site-packages (from jupyter-contrib-nbextensions<0.6.0,>=0.5.1->jupyter_to_medium) (0.2.0)\n",
      "Requirement already satisfied: jupyter-contrib-core>=0.3.3 in /Users/maynardemmanuelmiranda/opt/anaconda3/lib/python3.9/site-packages (from jupyter-contrib-nbextensions<0.6.0,>=0.5.1->jupyter_to_medium) (0.4.0)\n",
      "Requirement already satisfied: jupyter-nbextensions-configurator>=0.4.0 in /Users/maynardemmanuelmiranda/opt/anaconda3/lib/python3.9/site-packages (from jupyter-contrib-nbextensions<0.6.0,>=0.5.1->jupyter_to_medium) (0.5.0)\n",
      "Requirement already satisfied: tornado in /Users/maynardemmanuelmiranda/opt/anaconda3/lib/python3.9/site-packages (from jupyter-contrib-nbextensions<0.6.0,>=0.5.1->jupyter_to_medium) (6.1)\n",
      "Requirement already satisfied: lxml in /Users/maynardemmanuelmiranda/opt/anaconda3/lib/python3.9/site-packages (from jupyter-contrib-nbextensions<0.6.0,>=0.5.1->jupyter_to_medium) (4.8.0)\n",
      "Requirement already satisfied: jupyter-latex-envs>=1.3.8 in /Users/maynardemmanuelmiranda/opt/anaconda3/lib/python3.9/site-packages (from jupyter-contrib-nbextensions<0.6.0,>=0.5.1->jupyter_to_medium) (1.4.6)\n",
      "Requirement already satisfied: setuptools in /Users/maynardemmanuelmiranda/opt/anaconda3/lib/python3.9/site-packages (from jupyter-contrib-core>=0.3.3->jupyter-contrib-nbextensions<0.6.0,>=0.5.1->jupyter_to_medium) (61.2.0)\n",
      "Requirement already satisfied: ipython in /Users/maynardemmanuelmiranda/opt/anaconda3/lib/python3.9/site-packages (from jupyter-latex-envs>=1.3.8->jupyter-contrib-nbextensions<0.6.0,>=0.5.1->jupyter_to_medium) (8.2.0)\n",
      "Requirement already satisfied: fonttools>=4.22.0 in /Users/maynardemmanuelmiranda/opt/anaconda3/lib/python3.9/site-packages (from matplotlib<4.0.0,>=3.5.0->jupyter_to_medium) (4.25.0)\n",
      "Requirement already satisfied: packaging>=20.0 in /Users/maynardemmanuelmiranda/opt/anaconda3/lib/python3.9/site-packages (from matplotlib<4.0.0,>=3.5.0->jupyter_to_medium) (21.3)\n",
      "Requirement already satisfied: kiwisolver>=1.0.1 in /Users/maynardemmanuelmiranda/opt/anaconda3/lib/python3.9/site-packages (from matplotlib<4.0.0,>=3.5.0->jupyter_to_medium) (1.3.2)\n",
      "Requirement already satisfied: pillow>=6.2.0 in /Users/maynardemmanuelmiranda/opt/anaconda3/lib/python3.9/site-packages (from matplotlib<4.0.0,>=3.5.0->jupyter_to_medium) (9.0.1)\n",
      "Requirement already satisfied: python-dateutil>=2.7 in /Users/maynardemmanuelmiranda/opt/anaconda3/lib/python3.9/site-packages (from matplotlib<4.0.0,>=3.5.0->jupyter_to_medium) (2.8.2)\n",
      "Requirement already satisfied: cycler>=0.10 in /Users/maynardemmanuelmiranda/opt/anaconda3/lib/python3.9/site-packages (from matplotlib<4.0.0,>=3.5.0->jupyter_to_medium) (0.11.0)\n",
      "Requirement already satisfied: pyparsing>=2.2.1 in /Users/maynardemmanuelmiranda/opt/anaconda3/lib/python3.9/site-packages (from matplotlib<4.0.0,>=3.5.0->jupyter_to_medium) (3.0.4)\n",
      "Requirement already satisfied: jsonschema>=2.6 in /Users/maynardemmanuelmiranda/opt/anaconda3/lib/python3.9/site-packages (from nbformat>=4.4->nbconvert==5.6.1->jupyter_to_medium) (4.4.0)\n",
      "Requirement already satisfied: fastjsonschema in /Users/maynardemmanuelmiranda/opt/anaconda3/lib/python3.9/site-packages (from nbformat>=4.4->nbconvert==5.6.1->jupyter_to_medium) (2.15.1)\n",
      "Requirement already satisfied: pyrsistent!=0.17.0,!=0.17.1,!=0.17.2,>=0.14.0 in /Users/maynardemmanuelmiranda/opt/anaconda3/lib/python3.9/site-packages (from jsonschema>=2.6->nbformat>=4.4->nbconvert==5.6.1->jupyter_to_medium) (0.18.0)\n",
      "Requirement already satisfied: attrs>=17.4.0 in /Users/maynardemmanuelmiranda/opt/anaconda3/lib/python3.9/site-packages (from jsonschema>=2.6->nbformat>=4.4->nbconvert==5.6.1->jupyter_to_medium) (21.4.0)\n",
      "Requirement already satisfied: jupyter-client>=5.3.4 in /Users/maynardemmanuelmiranda/opt/anaconda3/lib/python3.9/site-packages (from notebook->jupyter<2.0.0,>=1.0.0->jupyter_to_medium) (6.1.12)\n",
      "Requirement already satisfied: argon2-cffi in /Users/maynardemmanuelmiranda/opt/anaconda3/lib/python3.9/site-packages (from notebook->jupyter<2.0.0,>=1.0.0->jupyter_to_medium) (21.3.0)\n",
      "Requirement already satisfied: prometheus-client in /Users/maynardemmanuelmiranda/opt/anaconda3/lib/python3.9/site-packages (from notebook->jupyter<2.0.0,>=1.0.0->jupyter_to_medium) (0.13.1)\n",
      "Requirement already satisfied: terminado>=0.8.3 in /Users/maynardemmanuelmiranda/opt/anaconda3/lib/python3.9/site-packages (from notebook->jupyter<2.0.0,>=1.0.0->jupyter_to_medium) (0.13.1)\n",
      "Requirement already satisfied: nest-asyncio>=1.5 in /Users/maynardemmanuelmiranda/opt/anaconda3/lib/python3.9/site-packages (from notebook->jupyter<2.0.0,>=1.0.0->jupyter_to_medium) (1.5.5)\n",
      "Requirement already satisfied: Send2Trash>=1.8.0 in /Users/maynardemmanuelmiranda/opt/anaconda3/lib/python3.9/site-packages (from notebook->jupyter<2.0.0,>=1.0.0->jupyter_to_medium) (1.8.0)\n",
      "Requirement already satisfied: pyzmq>=17 in /Users/maynardemmanuelmiranda/opt/anaconda3/lib/python3.9/site-packages (from notebook->jupyter<2.0.0,>=1.0.0->jupyter_to_medium) (22.3.0)\n",
      "Requirement already satisfied: six>=1.5 in /Users/maynardemmanuelmiranda/opt/anaconda3/lib/python3.9/site-packages (from python-dateutil>=2.7->matplotlib<4.0.0,>=3.5.0->jupyter_to_medium) (1.16.0)\n",
      "Requirement already satisfied: charset-normalizer~=2.0.0 in /Users/maynardemmanuelmiranda/opt/anaconda3/lib/python3.9/site-packages (from requests<3.0.0,>=2.26.0->jupyter_to_medium) (2.0.4)\n",
      "Requirement already satisfied: idna<4,>=2.5 in /Users/maynardemmanuelmiranda/opt/anaconda3/lib/python3.9/site-packages (from requests<3.0.0,>=2.26.0->jupyter_to_medium) (3.3)\n",
      "Requirement already satisfied: certifi>=2017.4.17 in /Users/maynardemmanuelmiranda/opt/anaconda3/lib/python3.9/site-packages (from requests<3.0.0,>=2.26.0->jupyter_to_medium) (2021.10.8)\n",
      "Requirement already satisfied: urllib3<1.27,>=1.21.1 in /Users/maynardemmanuelmiranda/opt/anaconda3/lib/python3.9/site-packages (from requests<3.0.0,>=2.26.0->jupyter_to_medium) (1.26.9)\n",
      "Requirement already satisfied: ptyprocess in /Users/maynardemmanuelmiranda/opt/anaconda3/lib/python3.9/site-packages (from terminado>=0.8.3->notebook->jupyter<2.0.0,>=1.0.0->jupyter_to_medium) (0.7.0)\n",
      "Requirement already satisfied: argon2-cffi-bindings in /Users/maynardemmanuelmiranda/opt/anaconda3/lib/python3.9/site-packages (from argon2-cffi->notebook->jupyter<2.0.0,>=1.0.0->jupyter_to_medium) (21.2.0)\n",
      "Requirement already satisfied: cffi>=1.0.1 in /Users/maynardemmanuelmiranda/opt/anaconda3/lib/python3.9/site-packages (from argon2-cffi-bindings->argon2-cffi->notebook->jupyter<2.0.0,>=1.0.0->jupyter_to_medium) (1.15.0)\n",
      "Requirement already satisfied: pycparser in /Users/maynardemmanuelmiranda/opt/anaconda3/lib/python3.9/site-packages (from cffi>=1.0.1->argon2-cffi-bindings->argon2-cffi->notebook->jupyter<2.0.0,>=1.0.0->jupyter_to_medium) (2.21)\n",
      "Requirement already satisfied: webencodings in /Users/maynardemmanuelmiranda/opt/anaconda3/lib/python3.9/site-packages (from bleach->nbconvert==5.6.1->jupyter_to_medium) (0.5.1)\n",
      "Requirement already satisfied: appnope in /Users/maynardemmanuelmiranda/opt/anaconda3/lib/python3.9/site-packages (from ipykernel->jupyter<2.0.0,>=1.0.0->jupyter_to_medium) (0.1.2)\n",
      "Requirement already satisfied: debugpy<2.0,>=1.0.0 in /Users/maynardemmanuelmiranda/opt/anaconda3/lib/python3.9/site-packages (from ipykernel->jupyter<2.0.0,>=1.0.0->jupyter_to_medium) (1.5.1)\n",
      "Requirement already satisfied: matplotlib-inline<0.2.0,>=0.1.0 in /Users/maynardemmanuelmiranda/opt/anaconda3/lib/python3.9/site-packages (from ipykernel->jupyter<2.0.0,>=1.0.0->jupyter_to_medium) (0.1.2)\n",
      "Requirement already satisfied: pickleshare in /Users/maynardemmanuelmiranda/opt/anaconda3/lib/python3.9/site-packages (from ipython->jupyter-latex-envs>=1.3.8->jupyter-contrib-nbextensions<0.6.0,>=0.5.1->jupyter_to_medium) (0.7.5)\n",
      "Requirement already satisfied: stack-data in /Users/maynardemmanuelmiranda/opt/anaconda3/lib/python3.9/site-packages (from ipython->jupyter-latex-envs>=1.3.8->jupyter-contrib-nbextensions<0.6.0,>=0.5.1->jupyter_to_medium) (0.2.0)\n",
      "Requirement already satisfied: pexpect>4.3 in /Users/maynardemmanuelmiranda/opt/anaconda3/lib/python3.9/site-packages (from ipython->jupyter-latex-envs>=1.3.8->jupyter-contrib-nbextensions<0.6.0,>=0.5.1->jupyter_to_medium) (4.8.0)\n",
      "Requirement already satisfied: jedi>=0.16 in /Users/maynardemmanuelmiranda/opt/anaconda3/lib/python3.9/site-packages (from ipython->jupyter-latex-envs>=1.3.8->jupyter-contrib-nbextensions<0.6.0,>=0.5.1->jupyter_to_medium) (0.18.1)\n",
      "Requirement already satisfied: prompt-toolkit!=3.0.0,!=3.0.1,<3.1.0,>=2.0.0 in /Users/maynardemmanuelmiranda/opt/anaconda3/lib/python3.9/site-packages (from ipython->jupyter-latex-envs>=1.3.8->jupyter-contrib-nbextensions<0.6.0,>=0.5.1->jupyter_to_medium) (3.0.20)\n",
      "Requirement already satisfied: backcall in /Users/maynardemmanuelmiranda/opt/anaconda3/lib/python3.9/site-packages (from ipython->jupyter-latex-envs>=1.3.8->jupyter-contrib-nbextensions<0.6.0,>=0.5.1->jupyter_to_medium) (0.2.0)\n",
      "Requirement already satisfied: decorator in /Users/maynardemmanuelmiranda/opt/anaconda3/lib/python3.9/site-packages (from ipython->jupyter-latex-envs>=1.3.8->jupyter-contrib-nbextensions<0.6.0,>=0.5.1->jupyter_to_medium) (5.1.1)\n",
      "Requirement already satisfied: parso<0.9.0,>=0.8.0 in /Users/maynardemmanuelmiranda/opt/anaconda3/lib/python3.9/site-packages (from jedi>=0.16->ipython->jupyter-latex-envs>=1.3.8->jupyter-contrib-nbextensions<0.6.0,>=0.5.1->jupyter_to_medium) (0.8.3)\n",
      "Requirement already satisfied: wcwidth in /Users/maynardemmanuelmiranda/opt/anaconda3/lib/python3.9/site-packages (from prompt-toolkit!=3.0.0,!=3.0.1,<3.1.0,>=2.0.0->ipython->jupyter-latex-envs>=1.3.8->jupyter-contrib-nbextensions<0.6.0,>=0.5.1->jupyter_to_medium) (0.2.5)\n",
      "Requirement already satisfied: jupyterlab-widgets>=1.0.0 in /Users/maynardemmanuelmiranda/opt/anaconda3/lib/python3.9/site-packages (from ipywidgets->jupyter<2.0.0,>=1.0.0->jupyter_to_medium) (1.0.0)\n",
      "Requirement already satisfied: widgetsnbextension~=3.5.0 in /Users/maynardemmanuelmiranda/opt/anaconda3/lib/python3.9/site-packages (from ipywidgets->jupyter<2.0.0,>=1.0.0->jupyter_to_medium) (3.5.2)\n",
      "Requirement already satisfied: qtpy>=2.0.1 in /Users/maynardemmanuelmiranda/opt/anaconda3/lib/python3.9/site-packages (from qtconsole->jupyter<2.0.0,>=1.0.0->jupyter_to_medium) (2.0.1)\n",
      "Requirement already satisfied: executing in /Users/maynardemmanuelmiranda/opt/anaconda3/lib/python3.9/site-packages (from stack-data->ipython->jupyter-latex-envs>=1.3.8->jupyter-contrib-nbextensions<0.6.0,>=0.5.1->jupyter_to_medium) (0.8.3)\n",
      "Requirement already satisfied: pure-eval in /Users/maynardemmanuelmiranda/opt/anaconda3/lib/python3.9/site-packages (from stack-data->ipython->jupyter-latex-envs>=1.3.8->jupyter-contrib-nbextensions<0.6.0,>=0.5.1->jupyter_to_medium) (0.2.2)\n",
      "Requirement already satisfied: asttokens in /Users/maynardemmanuelmiranda/opt/anaconda3/lib/python3.9/site-packages (from stack-data->ipython->jupyter-latex-envs>=1.3.8->jupyter-contrib-nbextensions<0.6.0,>=0.5.1->jupyter_to_medium) (2.0.5)\n"
     ]
    }
   ],
   "source": [
    "## Import Libraries\n",
    "!pip install plotly\n",
    "!pip install jupyter_to_medium\n",
    "import pandas as pd \n",
    "from bs4 import BeautifulSoup\n",
    "import requests\n",
    "import re\n",
    "import matplotlib.pyplot as plt\n",
    "import seaborn as sns\n",
    "from statsmodels.tsa.seasonal import seasonal_decompose\n",
    "import pandas as pd\n",
    "import chart_studio.plotly as py\n",
    "import plotly.offline as po\n",
    "import plotly.graph_objs as pg\n",
    "import matplotlib.pyplot as plt\n",
    "%matplotlib inline"
   ]
  },
  {
   "cell_type": "markdown",
   "metadata": {},
   "source": [
    "Web Scraping"
   ]
  },
  {
   "cell_type": "code",
   "execution_count": 3,
   "metadata": {},
   "outputs": [
    {
     "data": {
      "text/html": [
       "<div>\n",
       "<style scoped>\n",
       "    .dataframe tbody tr th:only-of-type {\n",
       "        vertical-align: middle;\n",
       "    }\n",
       "\n",
       "    .dataframe tbody tr th {\n",
       "        vertical-align: top;\n",
       "    }\n",
       "\n",
       "    .dataframe thead th {\n",
       "        text-align: right;\n",
       "    }\n",
       "</style>\n",
       "<table border=\"1\" class=\"dataframe\">\n",
       "  <thead>\n",
       "    <tr style=\"text-align: right;\">\n",
       "      <th></th>\n",
       "      <th>Name</th>\n",
       "      <th>Location</th>\n",
       "      <th>Date of Death</th>\n",
       "      <th>Cause of Death</th>\n",
       "    </tr>\n",
       "  </thead>\n",
       "  <tbody>\n",
       "    <tr>\n",
       "      <th>0</th>\n",
       "      <td>Sergeant Abimael Castro-Berrocales</td>\n",
       "      <td>Puerto Rico Police Department, PR</td>\n",
       "      <td>EOW: Sunday, January 1, 2012</td>\n",
       "      <td>Cause: Gunfire</td>\n",
       "    </tr>\n",
       "    <tr>\n",
       "      <th>1</th>\n",
       "      <td>Park Ranger Margaret A. Anderson</td>\n",
       "      <td>United States Department of the Interior - Nat...</td>\n",
       "      <td>EOW: Sunday, January 1, 2012</td>\n",
       "      <td>Cause: Gunfire</td>\n",
       "    </tr>\n",
       "    <tr>\n",
       "      <th>2</th>\n",
       "      <td>Director of Field Operations Julio Daniel La Rosa</td>\n",
       "      <td>United States Department of the Treasury - Int...</td>\n",
       "      <td>EOW: Tuesday, January 3, 2012</td>\n",
       "      <td>Cause: Heart attack</td>\n",
       "    </tr>\n",
       "    <tr>\n",
       "      <th>3</th>\n",
       "      <td>Agent Jared Daniel Francom</td>\n",
       "      <td>Ogden Police Department, UT</td>\n",
       "      <td>EOW: Thursday, January 5, 2012</td>\n",
       "      <td>Cause: Gunfire</td>\n",
       "    </tr>\n",
       "    <tr>\n",
       "      <th>4</th>\n",
       "      <td>Master Patrolman Mitchell DeWayne Weeks</td>\n",
       "      <td>McAlester Police Department, OK</td>\n",
       "      <td>EOW: Friday, January 6, 2012</td>\n",
       "      <td>Cause: Heart attack</td>\n",
       "    </tr>\n",
       "  </tbody>\n",
       "</table>\n",
       "</div>"
      ],
      "text/plain": [
       "                                                Name  \\\n",
       "0                 Sergeant Abimael Castro-Berrocales   \n",
       "1                   Park Ranger Margaret A. Anderson   \n",
       "2  Director of Field Operations Julio Daniel La Rosa   \n",
       "3                         Agent Jared Daniel Francom   \n",
       "4            Master Patrolman Mitchell DeWayne Weeks   \n",
       "\n",
       "                                            Location  \\\n",
       "0                  Puerto Rico Police Department, PR   \n",
       "1  United States Department of the Interior - Nat...   \n",
       "2  United States Department of the Treasury - Int...   \n",
       "3                        Ogden Police Department, UT   \n",
       "4                    McAlester Police Department, OK   \n",
       "\n",
       "                    Date of Death       Cause of Death  \n",
       "0    EOW: Sunday, January 1, 2012       Cause: Gunfire  \n",
       "1    EOW: Sunday, January 1, 2012       Cause: Gunfire  \n",
       "2   EOW: Tuesday, January 3, 2012  Cause: Heart attack  \n",
       "3  EOW: Thursday, January 5, 2012       Cause: Gunfire  \n",
       "4    EOW: Friday, January 6, 2012  Cause: Heart attack  "
      ]
     },
     "execution_count": 3,
     "metadata": {},
     "output_type": "execute_result"
    }
   ],
   "source": [
    "## Empty dataframe. The dataframe for each year will be appended on this empty dataframe\n",
    "df = pd.DataFrame(columns = ['Name', 'Location', 'Date of Death', 'Cause of Death'])\n",
    "\n",
    "## Creating a loop for the url of each year from 2010 to 20202\n",
    "urls = []\n",
    "years = range(2012, 2023)\n",
    "for i in years:\n",
    "    url = \"https://www.odmp.org/search/year?year=\"\n",
    "    new_url = url + str(i)\n",
    "    urls.append(new_url)\n",
    "\n",
    "## Scrapping the data on the url\n",
    "for i in range(0, 11):\n",
    "    url = urls[i]\n",
    "    result = requests.get(url)\n",
    "    doc = BeautifulSoup(result.text, \"html.parser\")\n",
    "    doc_main = doc.find(\"main\", id=\"main\")\n",
    "    p_data = doc_main.find_all(\"p\")\n",
    "\n",
    "## Getting the string on the name tag and putting it on a list\n",
    "    data = []\n",
    "    for i in p_data:\n",
    "        #i.text\n",
    "        data.append(i.string)\n",
    "        \n",
    "## The data contains both died police and k9. The data related to K9 are located at the end part of the list\n",
    "## Determine the index where k9 data starts\n",
    "    def index_containing_substring(data, substring):\n",
    "        for i, s in enumerate(data):\n",
    "            if substring in s:\n",
    "                return i\n",
    "        return -1\n",
    "    K9_index_start = index_containing_substring(data, \"K9\")\n",
    "    \n",
    "    \n",
    "## Removing K9 data\n",
    "    final_data = data[0:K9_index_start]\n",
    "\n",
    "## Dividing the list per police information\n",
    "    final_data = [final_data[x:x+4] for x in range(0, len(final_data),4)]\n",
    "\n",
    "## Concate year dataframe to the main dataframe\n",
    "    df_data = pd.DataFrame(final_data, columns =['Name', 'Location', \"Date of Death\", \"Cause of Death\"])\n",
    "    df = pd.concat([df, df_data], axis=0)\n",
    "    \n",
    "\n",
    "##The scrapped data. The data still needs cleaning\n",
    "df.head()\n"
   ]
  },
  {
   "cell_type": "markdown",
   "metadata": {},
   "source": [
    "Data Cleaning"
   ]
  },
  {
   "cell_type": "code",
   "execution_count": 4,
   "metadata": {},
   "outputs": [
    {
     "data": {
      "text/html": [
       "<div>\n",
       "<style scoped>\n",
       "    .dataframe tbody tr th:only-of-type {\n",
       "        vertical-align: middle;\n",
       "    }\n",
       "\n",
       "    .dataframe tbody tr th {\n",
       "        vertical-align: top;\n",
       "    }\n",
       "\n",
       "    .dataframe thead th {\n",
       "        text-align: right;\n",
       "    }\n",
       "</style>\n",
       "<table border=\"1\" class=\"dataframe\">\n",
       "  <thead>\n",
       "    <tr style=\"text-align: right;\">\n",
       "      <th></th>\n",
       "      <th>Name</th>\n",
       "      <th>State of Death</th>\n",
       "      <th>Cause of Death</th>\n",
       "      <th>Date of Death</th>\n",
       "      <th>Day of Death</th>\n",
       "      <th>Month of Death</th>\n",
       "      <th>Year of Death</th>\n",
       "    </tr>\n",
       "  </thead>\n",
       "  <tbody>\n",
       "    <tr>\n",
       "      <th>0</th>\n",
       "      <td>Sergeant Abimael Castro-Berrocales</td>\n",
       "      <td>PR</td>\n",
       "      <td>Gunfire</td>\n",
       "      <td>January 1, 2012</td>\n",
       "      <td>Sunday</td>\n",
       "      <td>January</td>\n",
       "      <td>2012</td>\n",
       "    </tr>\n",
       "    <tr>\n",
       "      <th>1</th>\n",
       "      <td>Park Ranger Margaret A. Anderson</td>\n",
       "      <td>US</td>\n",
       "      <td>Gunfire</td>\n",
       "      <td>January 1, 2012</td>\n",
       "      <td>Sunday</td>\n",
       "      <td>January</td>\n",
       "      <td>2012</td>\n",
       "    </tr>\n",
       "    <tr>\n",
       "      <th>2</th>\n",
       "      <td>Director of Field Operations Julio Daniel La Rosa</td>\n",
       "      <td>US</td>\n",
       "      <td>Heart attack</td>\n",
       "      <td>January 3, 2012</td>\n",
       "      <td>Tuesday</td>\n",
       "      <td>January</td>\n",
       "      <td>2012</td>\n",
       "    </tr>\n",
       "    <tr>\n",
       "      <th>3</th>\n",
       "      <td>Agent Jared Daniel Francom</td>\n",
       "      <td>UT</td>\n",
       "      <td>Gunfire</td>\n",
       "      <td>January 5, 2012</td>\n",
       "      <td>Thursday</td>\n",
       "      <td>January</td>\n",
       "      <td>2012</td>\n",
       "    </tr>\n",
       "    <tr>\n",
       "      <th>4</th>\n",
       "      <td>Master Patrolman Mitchell DeWayne Weeks</td>\n",
       "      <td>OK</td>\n",
       "      <td>Heart attack</td>\n",
       "      <td>January 6, 2012</td>\n",
       "      <td>Friday</td>\n",
       "      <td>January</td>\n",
       "      <td>2012</td>\n",
       "    </tr>\n",
       "  </tbody>\n",
       "</table>\n",
       "</div>"
      ],
      "text/plain": [
       "                                                Name State of Death  \\\n",
       "0                 Sergeant Abimael Castro-Berrocales             PR   \n",
       "1                   Park Ranger Margaret A. Anderson             US   \n",
       "2  Director of Field Operations Julio Daniel La Rosa             US   \n",
       "3                         Agent Jared Daniel Francom             UT   \n",
       "4            Master Patrolman Mitchell DeWayne Weeks             OK   \n",
       "\n",
       "  Cause of Death    Date of Death Day of Death Month of Death Year of Death  \n",
       "0        Gunfire  January 1, 2012       Sunday        January          2012  \n",
       "1        Gunfire  January 1, 2012       Sunday        January          2012  \n",
       "2   Heart attack  January 3, 2012      Tuesday        January          2012  \n",
       "3        Gunfire  January 5, 2012     Thursday        January          2012  \n",
       "4   Heart attack  January 6, 2012       Friday        January          2012  "
      ]
     },
     "execution_count": 4,
     "metadata": {},
     "output_type": "execute_result"
    }
   ],
   "source": [
    "## Using Regex to retrieve only the State in the Location column\n",
    "search = []    \n",
    "for values in df['Location']:\n",
    "    search.append(re.search(r'[A-Z]{2}', values).group())\n",
    "df['Location'] = search\n",
    "\n",
    "##Removing the Cause: in the Cause of Death column\n",
    "df[['Cause of Death','Cause of Death']] = df['Cause of Death'].str.split(':',expand=True)\n",
    "\n",
    "##Removing the EOW: in the Date of Death column\n",
    "df[['Date of Death','Date of Death']] = df['Date of Death'].str.split(':',expand=True)\n",
    "\n",
    "##Separating Month, Day, and Year on the Date of Death column\n",
    "df[[\"Day\", \"Month\", \"Year\"]] = df[\"Date of Death\"].str.split(\",\", expand = True)\n",
    "df[[\"Month\", \"Month\", \"Month2\"]] = df[\"Month\"].str.split(\" \", expand = True)\n",
    "df[\"Date of Death\"] = df[\"Month\"] + \" \" + df[\"Month2\"] + \",\" + df[\"Year\"]\n",
    "df = df[[\"Name\", \"Location\", \"Cause of Death\", \"Date of Death\", \"Day\", \"Month\", \"Year\"]]\n",
    "df = df.rename(columns = {\"Day\": \"Day of Death\", \"Month\": \"Month of Death\", \"Year\": \"Year of Death\",\"Location\": \"State of Death\"})\n",
    "\n",
    "##The cleaned data\n",
    "df.head()"
   ]
  },
  {
   "cell_type": "code",
   "execution_count": 5,
   "metadata": {},
   "outputs": [
    {
     "data": {
      "text/plain": [
       "Name              0\n",
       "State of Death    0\n",
       "Cause of Death    0\n",
       "Date of Death     0\n",
       "Day of Death      0\n",
       "Month of Death    0\n",
       "Year of Death     0\n",
       "dtype: int64"
      ]
     },
     "execution_count": 5,
     "metadata": {},
     "output_type": "execute_result"
    }
   ],
   "source": [
    "## Checking if there are any missing values\n",
    "df.isnull().sum()"
   ]
  },
  {
   "cell_type": "code",
   "execution_count": 6,
   "metadata": {},
   "outputs": [
    {
     "data": {
      "text/html": [
       "<div>\n",
       "<style scoped>\n",
       "    .dataframe tbody tr th:only-of-type {\n",
       "        vertical-align: middle;\n",
       "    }\n",
       "\n",
       "    .dataframe tbody tr th {\n",
       "        vertical-align: top;\n",
       "    }\n",
       "\n",
       "    .dataframe thead th {\n",
       "        text-align: right;\n",
       "    }\n",
       "</style>\n",
       "<table border=\"1\" class=\"dataframe\">\n",
       "  <thead>\n",
       "    <tr style=\"text-align: right;\">\n",
       "      <th></th>\n",
       "      <th>Name</th>\n",
       "      <th>State of Death</th>\n",
       "      <th>Cause of Death</th>\n",
       "      <th>Date of Death</th>\n",
       "      <th>Day of Death</th>\n",
       "      <th>Month of Death</th>\n",
       "      <th>Year of Death</th>\n",
       "    </tr>\n",
       "  </thead>\n",
       "  <tbody>\n",
       "    <tr>\n",
       "      <th>count</th>\n",
       "      <td>2348</td>\n",
       "      <td>2348</td>\n",
       "      <td>2348</td>\n",
       "      <td>2348</td>\n",
       "      <td>2348</td>\n",
       "      <td>2348</td>\n",
       "      <td>2348</td>\n",
       "    </tr>\n",
       "    <tr>\n",
       "      <th>unique</th>\n",
       "      <td>2348</td>\n",
       "      <td>57</td>\n",
       "      <td>27</td>\n",
       "      <td>1485</td>\n",
       "      <td>7</td>\n",
       "      <td>12</td>\n",
       "      <td>11</td>\n",
       "    </tr>\n",
       "    <tr>\n",
       "      <th>top</th>\n",
       "      <td>Sergeant Abimael Castro-Berrocales</td>\n",
       "      <td>TX</td>\n",
       "      <td>COVID19</td>\n",
       "      <td>August 25, 2021</td>\n",
       "      <td>Thursday</td>\n",
       "      <td>September</td>\n",
       "      <td>2021</td>\n",
       "    </tr>\n",
       "    <tr>\n",
       "      <th>freq</th>\n",
       "      <td>1</td>\n",
       "      <td>301</td>\n",
       "      <td>793</td>\n",
       "      <td>9</td>\n",
       "      <td>380</td>\n",
       "      <td>252</td>\n",
       "      <td>638</td>\n",
       "    </tr>\n",
       "  </tbody>\n",
       "</table>\n",
       "</div>"
      ],
      "text/plain": [
       "                                      Name State of Death Cause of Death  \\\n",
       "count                                 2348           2348           2348   \n",
       "unique                                2348             57             27   \n",
       "top     Sergeant Abimael Castro-Berrocales             TX        COVID19   \n",
       "freq                                     1            301            793   \n",
       "\n",
       "          Date of Death Day of Death Month of Death Year of Death  \n",
       "count              2348         2348           2348          2348  \n",
       "unique             1485            7             12            11  \n",
       "top     August 25, 2021     Thursday      September          2021  \n",
       "freq                  9          380            252           638  "
      ]
     },
     "execution_count": 6,
     "metadata": {},
     "output_type": "execute_result"
    }
   ],
   "source": [
    "## Checking the count and unique values on each of the columns\n",
    "df.describe()  #State of Death column has 58 States which is seems incorrect"
   ]
  },
  {
   "cell_type": "code",
   "execution_count": 7,
   "metadata": {},
   "outputs": [
    {
     "data": {
      "text/plain": [
       "array(['PR', 'US', 'UT', 'OK', 'AZ', 'CT', 'NV', 'LA', 'AR', 'HI', 'KY',\n",
       "       'OH', 'GA', 'MD', 'SC', 'AL', 'NY', 'FL', 'WV', 'WA', 'IN', 'TX',\n",
       "       'VA', 'MA', 'NC', 'CA', 'NH', 'RI', 'PA', 'MS', 'TN', 'CO', 'IA',\n",
       "       'NJ', 'IL', 'WI', 'NM', 'MI', 'VI', 'MN', 'MO', 'KS', 'TR', 'AK',\n",
       "       'OR', 'NE', 'MT', 'DC', 'GU', 'ID', 'VT', 'ND', 'DE', 'WY', 'ME',\n",
       "       'SD', 'UM'], dtype=object)"
      ]
     },
     "execution_count": 7,
     "metadata": {},
     "output_type": "execute_result"
    }
   ],
   "source": [
    "## Inspecting the State of Death column\n",
    "df[\"State of Death\"].unique()  ## US, PR, AS, TR, VI, GU, UM are not a state and must be deleted"
   ]
  },
  {
   "cell_type": "code",
   "execution_count": 8,
   "metadata": {},
   "outputs": [
    {
     "data": {
      "text/html": [
       "<div>\n",
       "<style scoped>\n",
       "    .dataframe tbody tr th:only-of-type {\n",
       "        vertical-align: middle;\n",
       "    }\n",
       "\n",
       "    .dataframe tbody tr th {\n",
       "        vertical-align: top;\n",
       "    }\n",
       "\n",
       "    .dataframe thead th {\n",
       "        text-align: right;\n",
       "    }\n",
       "</style>\n",
       "<table border=\"1\" class=\"dataframe\">\n",
       "  <thead>\n",
       "    <tr style=\"text-align: right;\">\n",
       "      <th></th>\n",
       "      <th>Name</th>\n",
       "      <th>State of Death</th>\n",
       "      <th>Cause of Death</th>\n",
       "      <th>Date of Death</th>\n",
       "      <th>Day of Death</th>\n",
       "      <th>Month of Death</th>\n",
       "      <th>Year of Death</th>\n",
       "    </tr>\n",
       "  </thead>\n",
       "  <tbody>\n",
       "    <tr>\n",
       "      <th>3</th>\n",
       "      <td>Agent Jared Daniel Francom</td>\n",
       "      <td>UT</td>\n",
       "      <td>Gunfire</td>\n",
       "      <td>January 5, 2012</td>\n",
       "      <td>Thursday</td>\n",
       "      <td>January</td>\n",
       "      <td>2012</td>\n",
       "    </tr>\n",
       "    <tr>\n",
       "      <th>4</th>\n",
       "      <td>Master Patrolman Mitchell DeWayne Weeks</td>\n",
       "      <td>OK</td>\n",
       "      <td>Heart attack</td>\n",
       "      <td>January 6, 2012</td>\n",
       "      <td>Friday</td>\n",
       "      <td>January</td>\n",
       "      <td>2012</td>\n",
       "    </tr>\n",
       "    <tr>\n",
       "      <th>5</th>\n",
       "      <td>Deputy Sheriff William Hauley Coleman</td>\n",
       "      <td>AZ</td>\n",
       "      <td>Gunfire</td>\n",
       "      <td>January 8, 2012</td>\n",
       "      <td>Sunday</td>\n",
       "      <td>January</td>\n",
       "      <td>2012</td>\n",
       "    </tr>\n",
       "    <tr>\n",
       "      <th>6</th>\n",
       "      <td>Detective Andrew F. Faggio</td>\n",
       "      <td>CT</td>\n",
       "      <td>Automobile crash</td>\n",
       "      <td>January 11, 2012</td>\n",
       "      <td>Wednesday</td>\n",
       "      <td>January</td>\n",
       "      <td>2012</td>\n",
       "    </tr>\n",
       "    <tr>\n",
       "      <th>7</th>\n",
       "      <td>Deputy Sheriff Denny Van Lawrence</td>\n",
       "      <td>NV</td>\n",
       "      <td>Gunfire</td>\n",
       "      <td>January 17, 2012</td>\n",
       "      <td>Tuesday</td>\n",
       "      <td>January</td>\n",
       "      <td>2012</td>\n",
       "    </tr>\n",
       "  </tbody>\n",
       "</table>\n",
       "</div>"
      ],
      "text/plain": [
       "                                      Name State of Death     Cause of Death  \\\n",
       "3               Agent Jared Daniel Francom             UT            Gunfire   \n",
       "4  Master Patrolman Mitchell DeWayne Weeks             OK       Heart attack   \n",
       "5    Deputy Sheriff William Hauley Coleman             AZ            Gunfire   \n",
       "6               Detective Andrew F. Faggio             CT   Automobile crash   \n",
       "7        Deputy Sheriff Denny Van Lawrence             NV            Gunfire   \n",
       "\n",
       "      Date of Death Day of Death Month of Death Year of Death  \n",
       "3   January 5, 2012     Thursday        January          2012  \n",
       "4   January 6, 2012       Friday        January          2012  \n",
       "5   January 8, 2012       Sunday        January          2012  \n",
       "6  January 11, 2012    Wednesday        January          2012  \n",
       "7  January 17, 2012      Tuesday        January          2012  "
      ]
     },
     "execution_count": 8,
     "metadata": {},
     "output_type": "execute_result"
    }
   ],
   "source": [
    "## Deleting those that are identified not a state\n",
    "df = df[~df['State of Death'].isin(['US','PR', 'AS', 'TR', 'VI', 'GU', 'UM']) ]\n",
    "df.head()"
   ]
  },
  {
   "cell_type": "markdown",
   "metadata": {},
   "source": [
    "Data Analysis"
   ]
  },
  {
   "cell_type": "code",
   "execution_count": 9,
   "metadata": {},
   "outputs": [
    {
     "data": {
      "text/plain": [
       "Text(0, 0.5, 'Cumulative Percentage')"
      ]
     },
     "execution_count": 9,
     "metadata": {},
     "output_type": "execute_result"
    },
    {
     "data": {
      "image/png": "[encoded data removed]",
      "text/plain": [
       "<Figure size 1440x720 with 2 Axes>"
      ]
     },
     "metadata": {
      "needs_background": "light"
     },
     "output_type": "display_data"
    }
   ],
   "source": [
    "## Identifying the Top Causes of Deaths Using Pareto Analysis\n",
    "## Creating Cumulative Percentage Table\n",
    "df_cause_of_death = df.groupby(['Cause of Death']).count().reset_index()\n",
    "df_cause_of_death = df_cause_of_death[[\"Cause of Death\", \"Name\"]].rename(columns={\"Name\":\"Number of Deaths\"}).sort_values(by=\"Number of Deaths\", ascending=False)\n",
    "df_cause_of_death['Cum_Sum'] = df_cause_of_death[\"Number of Deaths\"].cumsum()\n",
    "df_cause_of_death['Cum_Percentage'] = round(100*df_cause_of_death.Cum_Sum/df_cause_of_death[\"Number of Deaths\"].sum(),2)\n",
    "df_cause_of_death.reset_index()\n",
    "\n",
    "## Plot Count\n",
    "ig, ax = plt.subplots(figsize=(20,10))\n",
    "ax.bar(df_cause_of_death[\"Cause of Death\"], df_cause_of_death[\"Number of Deaths\"])\n",
    "ax.set_title(\"Pareto Chart Police Death in United States from 2010 to 2022\", size=20)\n",
    "ax.set_xlabel(\"Cause of Death\", size=15)\n",
    "ax.set_ylabel(\"Number of Death\", size=15);\n",
    "plt.xticks(df_cause_of_death[\"Cause of Death\"], rotation=90)\n",
    "\n",
    "\n",
    "## Cummulative Line Chart\n",
    "ax2 = ax.twinx()\n",
    "ax2.plot(df_cause_of_death[\"Cause of Death\"], df_cause_of_death[\"Cum_Percentage\"], color=\"red\", marker=\"D\", ms=7)\n",
    "ax2.axhline(80, color=\"orange\", linestyle=\"dashed\")\n",
    "ax2.set_ylabel(\"Cumulative Percentage\", size=15)"
   ]
  },
  {
   "cell_type": "code",
   "execution_count": 10,
   "metadata": {},
   "outputs": [
    {
     "data": {
      "image/png": "[encoded data removed]",
      "text/plain": [
       "<Figure size 1152x648 with 4 Axes>"
      ]
     },
     "metadata": {
      "needs_background": "light"
     },
     "output_type": "display_data"
    }
   ],
   "source": [
    "## Performing Time Series Analysis\n",
    "## COVID and 9/11 related illness are exluded as they happened on a certain period of time only\n",
    "\n",
    "## Exluding COVID and 9/11 related illness\n",
    "df_exclude = df[(df[\"Cause of Death\"] != \" COVID19\") & (df[\"Cause of Death\"] != \" 9/11 related illness\")]\n",
    "\n",
    "## Creating the timeseries dataset\n",
    "df_ts = df_exclude\n",
    "df_month = {\"January\": \"01\" , \"February\": \"02\", \"March\": \"03\", \"April\": \"04\", \"May\": \"05\", \"June\": \"06\", \"July\": \"07\",\n",
    "            \"August\": \"08\", \"September\": \"09\", \"October\": \"10\", \"November\": \"11\", \"December\": \"12\"}\n",
    "df_ts = df_ts.replace({\"Month of Death\": df_month})\n",
    "df_ts[\"Month of Death\"].unique()\n",
    "df_ts[\"TS Date\"] = df_ts[\"Year of Death\"] + \"-\" + df_ts[\"Month of Death\"]\n",
    "df_ts = df_ts.groupby([\"TS Date\"]).count().reset_index()\n",
    "df_ts = df_ts[[\"TS Date\", \"Name\"]].rename(columns={\"Name\":\"Number of Deaths\"}).sort_values(by=\"TS Date\", ascending= True)\n",
    "df_ts.set_index('TS Date',inplace=True)\n",
    "df_ts.index=pd.to_datetime(df_ts.index)\n",
    "\n",
    "## Additive Time Series Decomposition\n",
    "additive_decomposition=seasonal_decompose(df_ts['Number of Deaths'], model='additive', period=12)\n",
    "fig = additive_decomposition.plot()\n",
    "fig.set_size_inches((16, 9))\n",
    "fig.tight_layout()\n",
    "plt.show()\n",
    "\n"
   ]
  },
  {
   "cell_type": "code",
   "execution_count": 11,
   "metadata": {},
   "outputs": [
    {
     "data": {
      "application/vnd.plotly.v1+json": {
       "config": {
        "linkText": "Export to plotly.com",
        "plotlyServerURL": "https://plotly.com",
        "showLink": false
       },
       "data": [
        {
         "colorbar": {
          "title": {
           "text": "colorbar"
          }
         },
         "colorscale": [
          [
           0,
           "rgb(255,245,240)"
          ],
          [
           0.125,
           "rgb(254,224,210)"
          ],
          [
           0.25,
           "rgb(252,187,161)"
          ],
          [
           0.375,
           "rgb(252,146,114)"
          ],
          [
           0.5,
           "rgb(251,106,74)"
          ],
          [
           0.625,
           "rgb(239,59,44)"
          ],
          [
           0.75,
           "rgb(203,24,29)"
          ],
          [
           0.875,
           "rgb(165,15,21)"
          ],
          [
           1,
           "rgb(103,0,13)"
          ]
         ],
         "locationmode": "USA-states",
         "locations": [
          "TX",
          "NY",
          "FL",
          "CA",
          "GA",
          "LA",
          "NC",
          "PA",
          "TN",
          "IL",
          "AL",
          "MI",
          "KY",
          "NJ",
          "OK",
          "MO",
          "OH",
          "SC",
          "MS",
          "AR",
          "CO",
          "VA",
          "AZ",
          "IN",
          "WA",
          "MA",
          "KS",
          "MD",
          "NV",
          "WI",
          "IA",
          "NM",
          "MN",
          "WV",
          "UT",
          "NE",
          "CT",
          "OR",
          "HI",
          "DE",
          "AK",
          "RI",
          "NH",
          "ND",
          "ME",
          "SD",
          "ID",
          "MT",
          "VT",
          "WY"
         ],
         "text": [
          "Texas",
          "New York",
          "Florida",
          "California",
          "Georgia",
          "Louisiana",
          "North Carolina",
          "Pennsylvania",
          "Tennessee",
          "Illinois",
          "Alabama",
          "Michigan",
          "Kentucky",
          "New Jersey",
          "Oklahoma",
          "Missouri",
          "Ohio",
          "South Carolina",
          "Mississippi",
          "Arkansas",
          "Colorado",
          "Virginia",
          "Arizona",
          "Indiana",
          "Washington",
          "Massachusetts",
          "Kansas",
          "Maryland",
          "Nevada",
          "Wisconsin",
          "Iowa",
          "New Mexico",
          "Minnesota",
          "West Virginia",
          "Utah",
          "Nebraska",
          "Connecticut",
          "Oregon",
          "Hawaii",
          "Delaware",
          "Alaska",
          "Rhode Island",
          "New Hampshire",
          "North Dakota",
          "Maine",
          "South Dakota",
          "Idaho",
          "Montana",
          "Vermont",
          "Wyoming"
         ],
         "type": "choropleth",
         "z": [
          301,
          292,
          129,
          123,
          121,
          76,
          76,
          66,
          56,
          53,
          47,
          47,
          46,
          44,
          43,
          39,
          38,
          38,
          37,
          36,
          35,
          34,
          34,
          30,
          28,
          25,
          24,
          21,
          20,
          20,
          19,
          16,
          13,
          11,
          10,
          9,
          8,
          8,
          6,
          5,
          4,
          4,
          4,
          4,
          4,
          3,
          3,
          2,
          1,
          1
         ]
        }
       ],
       "layout": {
        "geo": {
         "scope": "usa"
        },
        "margin": {
         "b": 30,
         "l": 30,
         "r": 30,
         "t": 30
        },
        "template": {
         "data": {
          "bar": [
           {
            "error_x": {
             "color": "#2a3f5f"
            },
            "error_y": {
             "color": "#2a3f5f"
            },
            "marker": {
             "line": {
              "color": "#E5ECF6",
              "width": 0.5
             },
             "pattern": {
              "fillmode": "overlay",
              "size": 10,
              "solidity": 0.2
             }
            },
            "type": "bar"
           }
          ],
          "barpolar": [
           {
            "marker": {
             "line": {
              "color": "#E5ECF6",
              "width": 0.5
             },
             "pattern": {
              "fillmode": "overlay",
              "size": 10,
              "solidity": 0.2
             }
            },
            "type": "barpolar"
           }
          ],
          "carpet": [
           {
            "aaxis": {
             "endlinecolor": "#2a3f5f",
             "gridcolor": "white",
             "linecolor": "white",
             "minorgridcolor": "white",
             "startlinecolor": "#2a3f5f"
            },
            "baxis": {
             "endlinecolor": "#2a3f5f",
             "gridcolor": "white",
             "linecolor": "white",
             "minorgridcolor": "white",
             "startlinecolor": "#2a3f5f"
            },
            "type": "carpet"
           }
          ],
          "choropleth": [
           {
            "colorbar": {
             "outlinewidth": 0,
             "ticks": ""
            },
            "type": "choropleth"
           }
          ],
          "contour": [
           {
            "colorbar": {
             "outlinewidth": 0,
             "ticks": ""
            },
            "colorscale": [
             [
              0,
              "#0d0887"
             ],
             [
              0.1111111111111111,
              "#46039f"
             ],
             [
              0.2222222222222222,
              "#7201a8"
             ],
             [
              0.3333333333333333,
              "#9c179e"
             ],
             [
              0.4444444444444444,
              "#bd3786"
             ],
             [
              0.5555555555555556,
              "#d8576b"
             ],
             [
              0.6666666666666666,
              "#ed7953"
             ],
             [
              0.7777777777777778,
              "#fb9f3a"
             ],
             [
              0.8888888888888888,
              "#fdca26"
             ],
             [
              1,
              "#f0f921"
             ]
            ],
            "type": "contour"
           }
          ],
          "contourcarpet": [
           {
            "colorbar": {
             "outlinewidth": 0,
             "ticks": ""
            },
            "type": "contourcarpet"
           }
          ],
          "heatmap": [
           {
            "colorbar": {
             "outlinewidth": 0,
             "ticks": ""
            },
            "colorscale": [
             [
              0,
              "#0d0887"
             ],
             [
              0.1111111111111111,
              "#46039f"
             ],
             [
              0.2222222222222222,
              "#7201a8"
             ],
             [
              0.3333333333333333,
              "#9c179e"
             ],
             [
              0.4444444444444444,
              "#bd3786"
             ],
             [
              0.5555555555555556,
              "#d8576b"
             ],
             [
              0.6666666666666666,
              "#ed7953"
             ],
             [
              0.7777777777777778,
              "#fb9f3a"
             ],
             [
              0.8888888888888888,
              "#fdca26"
             ],
             [
              1,
              "#f0f921"
             ]
            ],
            "type": "heatmap"
           }
          ],
          "heatmapgl": [
           {
            "colorbar": {
             "outlinewidth": 0,
             "ticks": ""
            },
            "colorscale": [
             [
              0,
              "#0d0887"
             ],
             [
              0.1111111111111111,
              "#46039f"
             ],
             [
              0.2222222222222222,
              "#7201a8"
             ],
             [
              0.3333333333333333,
              "#9c179e"
             ],
             [
              0.4444444444444444,
              "#bd3786"
             ],
             [
              0.5555555555555556,
              "#d8576b"
             ],
             [
              0.6666666666666666,
              "#ed7953"
             ],
             [
              0.7777777777777778,
              "#fb9f3a"
             ],
             [
              0.8888888888888888,
              "#fdca26"
             ],
             [
              1,
              "#f0f921"
             ]
            ],
            "type": "heatmapgl"
           }
          ],
          "histogram": [
           {
            "marker": {
             "pattern": {
              "fillmode": "overlay",
              "size": 10,
              "solidity": 0.2
             }
            },
            "type": "histogram"
           }
          ],
          "histogram2d": [
           {
            "colorbar": {
             "outlinewidth": 0,
             "ticks": ""
            },
            "colorscale": [
             [
              0,
              "#0d0887"
             ],
             [
              0.1111111111111111,
              "#46039f"
             ],
             [
              0.2222222222222222,
              "#7201a8"
             ],
             [
              0.3333333333333333,
              "#9c179e"
             ],
             [
              0.4444444444444444,
              "#bd3786"
             ],
             [
              0.5555555555555556,
              "#d8576b"
             ],
             [
              0.6666666666666666,
              "#ed7953"
             ],
             [
              0.7777777777777778,
              "#fb9f3a"
             ],
             [
              0.8888888888888888,
              "#fdca26"
             ],
             [
              1,
              "#f0f921"
             ]
            ],
            "type": "histogram2d"
           }
          ],
          "histogram2dcontour": [
           {
            "colorbar": {
             "outlinewidth": 0,
             "ticks": ""
            },
            "colorscale": [
             [
              0,
              "#0d0887"
             ],
             [
              0.1111111111111111,
              "#46039f"
             ],
             [
              0.2222222222222222,
              "#7201a8"
             ],
             [
              0.3333333333333333,
              "#9c179e"
             ],
             [
              0.4444444444444444,
              "#bd3786"
             ],
             [
              0.5555555555555556,
              "#d8576b"
             ],
             [
              0.6666666666666666,
              "#ed7953"
             ],
             [
              0.7777777777777778,
              "#fb9f3a"
             ],
             [
              0.8888888888888888,
              "#fdca26"
             ],
             [
              1,
              "#f0f921"
             ]
            ],
            "type": "histogram2dcontour"
           }
          ],
          "mesh3d": [
           {
            "colorbar": {
             "outlinewidth": 0,
             "ticks": ""
            },
            "type": "mesh3d"
           }
          ],
          "parcoords": [
           {
            "line": {
             "colorbar": {
              "outlinewidth": 0,
              "ticks": ""
             }
            },
            "type": "parcoords"
           }
          ],
          "pie": [
           {
            "automargin": true,
            "type": "pie"
           }
          ],
          "scatter": [
           {
            "marker": {
             "colorbar": {
              "outlinewidth": 0,
              "ticks": ""
             }
            },
            "type": "scatter"
           }
          ],
          "scatter3d": [
           {
            "line": {
             "colorbar": {
              "outlinewidth": 0,
              "ticks": ""
             }
            },
            "marker": {
             "colorbar": {
              "outlinewidth": 0,
              "ticks": ""
             }
            },
            "type": "scatter3d"
           }
          ],
          "scattercarpet": [
           {
            "marker": {
             "colorbar": {
              "outlinewidth": 0,
              "ticks": ""
             }
            },
            "type": "scattercarpet"
           }
          ],
          "scattergeo": [
           {
            "marker": {
             "colorbar": {
              "outlinewidth": 0,
              "ticks": ""
             }
            },
            "type": "scattergeo"
           }
          ],
          "scattergl": [
           {
            "marker": {
             "colorbar": {
              "outlinewidth": 0,
              "ticks": ""
             }
            },
            "type": "scattergl"
           }
          ],
          "scattermapbox": [
           {
            "marker": {
             "colorbar": {
              "outlinewidth": 0,
              "ticks": ""
             }
            },
            "type": "scattermapbox"
           }
          ],
          "scatterpolar": [
           {
            "marker": {
             "colorbar": {
              "outlinewidth": 0,
              "ticks": ""
             }
            },
            "type": "scatterpolar"
           }
          ],
          "scatterpolargl": [
           {
            "marker": {
             "colorbar": {
              "outlinewidth": 0,
              "ticks": ""
             }
            },
            "type": "scatterpolargl"
           }
          ],
          "scatterternary": [
           {
            "marker": {
             "colorbar": {
              "outlinewidth": 0,
              "ticks": ""
             }
            },
            "type": "scatterternary"
           }
          ],
          "surface": [
           {
            "colorbar": {
             "outlinewidth": 0,
             "ticks": ""
            },
            "colorscale": [
             [
              0,
              "#0d0887"
             ],
             [
              0.1111111111111111,
              "#46039f"
             ],
             [
              0.2222222222222222,
              "#7201a8"
             ],
             [
              0.3333333333333333,
              "#9c179e"
             ],
             [
              0.4444444444444444,
              "#bd3786"
             ],
             [
              0.5555555555555556,
              "#d8576b"
             ],
             [
              0.6666666666666666,
              "#ed7953"
             ],
             [
              0.7777777777777778,
              "#fb9f3a"
             ],
             [
              0.8888888888888888,
              "#fdca26"
             ],
             [
              1,
              "#f0f921"
             ]
            ],
            "type": "surface"
           }
          ],
          "table": [
           {
            "cells": {
             "fill": {
              "color": "#EBF0F8"
             },
             "line": {
              "color": "white"
             }
            },
            "header": {
             "fill": {
              "color": "#C8D4E3"
             },
             "line": {
              "color": "white"
             }
            },
            "type": "table"
           }
          ]
         },
         "layout": {
          "annotationdefaults": {
           "arrowcolor": "#2a3f5f",
           "arrowhead": 0,
           "arrowwidth": 1
          },
          "autotypenumbers": "strict",
          "coloraxis": {
           "colorbar": {
            "outlinewidth": 0,
            "ticks": ""
           }
          },
          "colorscale": {
           "diverging": [
            [
             0,
             "#8e0152"
            ],
            [
             0.1,
             "#c51b7d"
            ],
            [
             0.2,
             "#de77ae"
            ],
            [
             0.3,
             "#f1b6da"
            ],
            [
             0.4,
             "#fde0ef"
            ],
            [
             0.5,
             "#f7f7f7"
            ],
            [
             0.6,
             "#e6f5d0"
            ],
            [
             0.7,
             "#b8e186"
            ],
            [
             0.8,
             "#7fbc41"
            ],
            [
             0.9,
             "#4d9221"
            ],
            [
             1,
             "#276419"
            ]
           ],
           "sequential": [
            [
             0,
             "#0d0887"
            ],
            [
             0.1111111111111111,
             "#46039f"
            ],
            [
             0.2222222222222222,
             "#7201a8"
            ],
            [
             0.3333333333333333,
             "#9c179e"
            ],
            [
             0.4444444444444444,
             "#bd3786"
            ],
            [
             0.5555555555555556,
             "#d8576b"
            ],
            [
             0.6666666666666666,
             "#ed7953"
            ],
            [
             0.7777777777777778,
             "#fb9f3a"
            ],
            [
             0.8888888888888888,
             "#fdca26"
            ],
            [
             1,
             "#f0f921"
            ]
           ],
           "sequentialminus": [
            [
             0,
             "#0d0887"
            ],
            [
             0.1111111111111111,
             "#46039f"
            ],
            [
             0.2222222222222222,
             "#7201a8"
            ],
            [
             0.3333333333333333,
             "#9c179e"
            ],
            [
             0.4444444444444444,
             "#bd3786"
            ],
            [
             0.5555555555555556,
             "#d8576b"
            ],
            [
             0.6666666666666666,
             "#ed7953"
            ],
            [
             0.7777777777777778,
             "#fb9f3a"
            ],
            [
             0.8888888888888888,
             "#fdca26"
            ],
            [
             1,
             "#f0f921"
            ]
           ]
          },
          "colorway": [
           "#636efa",
           "#EF553B",
           "#00cc96",
           "#ab63fa",
           "#FFA15A",
           "#19d3f3",
           "#FF6692",
           "#B6E880",
           "#FF97FF",
           "#FECB52"
          ],
          "font": {
           "color": "#2a3f5f"
          },
          "geo": {
           "bgcolor": "white",
           "lakecolor": "white",
           "landcolor": "#E5ECF6",
           "showlakes": true,
           "showland": true,
           "subunitcolor": "white"
          },
          "hoverlabel": {
           "align": "left"
          },
          "hovermode": "closest",
          "mapbox": {
           "style": "light"
          },
          "paper_bgcolor": "white",
          "plot_bgcolor": "#E5ECF6",
          "polar": {
           "angularaxis": {
            "gridcolor": "white",
            "linecolor": "white",
            "ticks": ""
           },
           "bgcolor": "#E5ECF6",
           "radialaxis": {
            "gridcolor": "white",
            "linecolor": "white",
            "ticks": ""
           }
          },
          "scene": {
           "xaxis": {
            "backgroundcolor": "#E5ECF6",
            "gridcolor": "white",
            "gridwidth": 2,
            "linecolor": "white",
            "showbackground": true,
            "ticks": "",
            "zerolinecolor": "white"
           },
           "yaxis": {
            "backgroundcolor": "#E5ECF6",
            "gridcolor": "white",
            "gridwidth": 2,
            "linecolor": "white",
            "showbackground": true,
            "ticks": "",
            "zerolinecolor": "white"
           },
           "zaxis": {
            "backgroundcolor": "#E5ECF6",
            "gridcolor": "white",
            "gridwidth": 2,
            "linecolor": "white",
            "showbackground": true,
            "ticks": "",
            "zerolinecolor": "white"
           }
          },
          "shapedefaults": {
           "line": {
            "color": "#2a3f5f"
           }
          },
          "ternary": {
           "aaxis": {
            "gridcolor": "white",
            "linecolor": "white",
            "ticks": ""
           },
           "baxis": {
            "gridcolor": "white",
            "linecolor": "white",
            "ticks": ""
           },
           "bgcolor": "#E5ECF6",
           "caxis": {
            "gridcolor": "white",
            "linecolor": "white",
            "ticks": ""
           }
          },
          "title": {
           "x": 0.05
          },
          "xaxis": {
           "automargin": true,
           "gridcolor": "white",
           "linecolor": "white",
           "ticks": "",
           "title": {
            "standoff": 15
           },
           "zerolinecolor": "white",
           "zerolinewidth": 2
          },
          "yaxis": {
           "automargin": true,
           "gridcolor": "white",
           "linecolor": "white",
           "ticks": "",
           "title": {
            "standoff": 15
           },
           "zerolinecolor": "white",
           "zerolinewidth": 2
          }
         }
        },
        "title": {
         "text": "Police Deaths in the United States from 2012 - 2022"
        }
       }
      }
     },
     "metadata": {},
     "output_type": "display_data"
    }
   ],
   "source": [
    "## Grouping Deaths by State\n",
    "df_map = df.groupby(['State of Death']).count().reset_index()\n",
    "df_map = df_map[[\"State of Death\", \"Name\"]].rename(columns={\"Name\":\"Deaths\"}).sort_values(by=\"Deaths\", ascending=False)\n",
    "\n",
    "## Dataset with State Name\n",
    "df_states = pd.read_csv(\"/Users/maynardemmanuelmiranda/Desktop/Police Deaths in USA/States.csv\")\n",
    "df_states[\"State of Death\"] = df_states[\"Code\"]\n",
    "df_states\n",
    "\n",
    "## Merging the datasets\n",
    "df_map = pd.merge(df_map, df_states, on=\"State of Death\")\n",
    "\n",
    "## Final Dataset\n",
    "df_map = df_map[[\"State\", \"Code\", \"Deaths\"]]\n",
    "\n",
    "\n",
    "## Map Using Plotly\n",
    "Code = df_map[\"Code\"].values.tolist()\n",
    "Deaths = df_map[\"Deaths\"].values.tolist()\n",
    "State = df_map[\"State\"].values.tolist()\n",
    "\n",
    "data = dict(type = \"choropleth\",\n",
    "            locations = Code,\n",
    "            locationmode = \"USA-states\",\n",
    "            z = Deaths,\n",
    "            colorscale= \"Reds\",\n",
    "            colorbar = {\"title\": \"colorbar\"},\n",
    "            text = State)\n",
    "\n",
    "\n",
    "layout = dict(title = \"Police Deaths in the United States from 2012 - 2022\", \n",
    "              geo = {\"scope\": \"usa\"})\n",
    "\n",
    "\n",
    "death_map = pg.Figure(data = [data] ,layout = layout)\n",
    "death_map.update_layout(margin=dict(l=30, r=30, t=30, b=30))\n",
    "po.iplot(death_map)\n",
    "plt.show()\n",
    "\n"
   ]
  },
  {
   "cell_type": "markdown",
   "metadata": {},
   "source": [
    "link to the datapane report: https://datapane.com/reports/E7ydl83/map-chart/"
   ]
  }
 ],
 "metadata": {
  "kernelspec": {
   "display_name": "Python 3 (ipykernel)",
   "language": "python",
   "name": "python3"
  },
  "language_info": {
   "codemirror_mode": {
    "name": "ipython",
    "version": 3
   },
   "file_extension": ".py",
   "mimetype": "text/x-python",
   "name": "python",
   "nbconvert_exporter": "python",
   "pygments_lexer": "ipython3",
   "version": "3.9.12"
  },
  "vscode": {
   "interpreter": {
    "hash": "9dd350bc4093f4e0c8710b87c0581205ce5dda265ea82af68fee06fb2abc8260"
   }
  }
 },
 "nbformat": 4,
 "nbformat_minor": 2
}
